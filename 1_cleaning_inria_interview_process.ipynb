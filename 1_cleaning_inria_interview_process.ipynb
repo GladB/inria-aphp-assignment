{
 "cells": [
  {
   "cell_type": "code",
   "execution_count": 350,
   "metadata": {},
   "outputs": [],
   "source": [
    "## Imports\n",
    "import pandas as pd\n",
    "from sqlalchemy import create_engine\n",
    "import numpy as np\n",
    "import matplotlib.pyplot as plt\n",
    "import seaborn as sns\n",
    "from fuzzywuzzy import fuzz\n",
    "from fuzzywuzzy import process\n",
    "import math"
   ]
  },
  {
   "cell_type": "code",
   "execution_count": 351,
   "metadata": {},
   "outputs": [],
   "source": [
    "import pandas as pd\n",
    "from sqlalchemy import create_engine\n",
    "\n",
    "engine = create_engine('sqlite:///data.db', echo=False)\n",
    "con = engine.connect()\n",
    "df_patient_original = pd.read_sql('select * from patient', con=con)\n",
    "df_patient = pd.read_sql('select * from patient', con=con)\n",
    "df_pcr = pd.read_sql('select * from test', con=con)\n",
    "con.close()\n",
    "\n"
   ]
  },
  {
   "cell_type": "markdown",
   "metadata": {},
   "source": [
    "# df_pcr\n",
    "\n",
    "Regardons tout d'abord la base de données df_pcr."
   ]
  },
  {
   "cell_type": "code",
   "execution_count": 352,
   "metadata": {},
   "outputs": [
    {
     "name": "stdout",
     "output_type": "stream",
     "text": [
      "Shape of df_pcr:  (8800, 2)\n",
      "Types of different columns: \n",
      " patient_id     int64\n",
      "pcr           object\n",
      "dtype: object\n"
     ]
    },
    {
     "data": {
      "text/html": [
       "<div>\n",
       "<style scoped>\n",
       "    .dataframe tbody tr th:only-of-type {\n",
       "        vertical-align: middle;\n",
       "    }\n",
       "\n",
       "    .dataframe tbody tr th {\n",
       "        vertical-align: top;\n",
       "    }\n",
       "\n",
       "    .dataframe thead th {\n",
       "        text-align: right;\n",
       "    }\n",
       "</style>\n",
       "<table border=\"1\" class=\"dataframe\">\n",
       "  <thead>\n",
       "    <tr style=\"text-align: right;\">\n",
       "      <th></th>\n",
       "      <th>patient_id</th>\n",
       "      <th>pcr</th>\n",
       "    </tr>\n",
       "  </thead>\n",
       "  <tbody>\n",
       "    <tr>\n",
       "      <th>0</th>\n",
       "      <td>653091</td>\n",
       "      <td>N</td>\n",
       "    </tr>\n",
       "    <tr>\n",
       "      <th>1</th>\n",
       "      <td>347667</td>\n",
       "      <td>Negative</td>\n",
       "    </tr>\n",
       "    <tr>\n",
       "      <th>2</th>\n",
       "      <td>708481</td>\n",
       "      <td>Positive</td>\n",
       "    </tr>\n",
       "    <tr>\n",
       "      <th>3</th>\n",
       "      <td>148825</td>\n",
       "      <td>Negative</td>\n",
       "    </tr>\n",
       "    <tr>\n",
       "      <th>4</th>\n",
       "      <td>150081</td>\n",
       "      <td>Negative</td>\n",
       "    </tr>\n",
       "  </tbody>\n",
       "</table>\n",
       "</div>"
      ],
      "text/plain": [
       "   patient_id       pcr\n",
       "0      653091         N\n",
       "1      347667  Negative\n",
       "2      708481  Positive\n",
       "3      148825  Negative\n",
       "4      150081  Negative"
      ]
     },
     "execution_count": 352,
     "metadata": {},
     "output_type": "execute_result"
    }
   ],
   "source": [
    "print(\"Shape of df_pcr: \", df_pcr.shape)\n",
    "print(\"Types of different columns: \\n\", df_pcr.dtypes)\n",
    "df_pcr.head()"
   ]
  },
  {
   "cell_type": "markdown",
   "metadata": {},
   "source": [
    "On a donc 8800 lignes et deux colonnes, une avec patient_id et l'autre avec le résultat de PCR. Regardons s'il manque des données."
   ]
  },
  {
   "cell_type": "code",
   "execution_count": 353,
   "metadata": {},
   "outputs": [
    {
     "name": "stdout",
     "output_type": "stream",
     "text": [
      "patient_id        0.00%\n",
      "pcr               0.00%\n",
      "{'patient_id': 0, 'pcr': 0}\n"
     ]
    }
   ],
   "source": [
    "na_per_feature = {}\n",
    "for feature in df_pcr.columns:\n",
    "    nb_na = len(df_pcr[df_pcr[feature].isna()])\n",
    "    na_per_feature[feature] = nb_na\n",
    "    print(\"{0:15}   {1}\".format(feature,f'{nb_na/len(df_patient)*100:.2f}'+\"%\"))\n",
    "    \n",
    "print(na_per_feature)"
   ]
  },
  {
   "cell_type": "markdown",
   "metadata": {},
   "source": [
    "Apparemment, il n'y a pas de NaN dans les données. Voyons ce qu'il y a dans les résultats de PCR."
   ]
  },
  {
   "cell_type": "code",
   "execution_count": 354,
   "metadata": {},
   "outputs": [
    {
     "data": {
      "text/plain": [
       "array(['N', 'Negative', 'Positive', 'P'], dtype=object)"
      ]
     },
     "execution_count": 354,
     "metadata": {},
     "output_type": "execute_result"
    }
   ],
   "source": [
    "df_pcr.pcr.unique()"
   ]
  },
  {
   "cell_type": "markdown",
   "metadata": {},
   "source": [
    "On a 4 valeurs possibles pour le résultat de PCR. On peut remplacer 'N' par 'Negative' et 'P' par 'Positive' pour avoir des valeurs cohérentes entre elles."
   ]
  },
  {
   "cell_type": "code",
   "execution_count": 355,
   "metadata": {},
   "outputs": [],
   "source": [
    "df_pcr = df_pcr.replace({\"pcr\": {'N':\"Negative\", 'P':\"Positive\"}})"
   ]
  },
  {
   "cell_type": "code",
   "execution_count": 356,
   "metadata": {},
   "outputs": [
    {
     "data": {
      "text/plain": [
       "array(['Negative', 'Positive'], dtype=object)"
      ]
     },
     "execution_count": 356,
     "metadata": {},
     "output_type": "execute_result"
    }
   ],
   "source": [
    "df_pcr.pcr.unique()"
   ]
  },
  {
   "cell_type": "markdown",
   "metadata": {},
   "source": [
    "On regarde ensuite la colonne patient_id, qui ne devrait pas contenir de doublons."
   ]
  },
  {
   "cell_type": "code",
   "execution_count": 357,
   "metadata": {},
   "outputs": [
    {
     "name": "stdout",
     "output_type": "stream",
     "text": [
      "(70,)\n"
     ]
    }
   ],
   "source": [
    "pcr_id_duplicated = df_pcr.duplicated(subset=\"patient_id\", keep=False)\n",
    "print(pcr_id_duplicated[pcr_id_duplicated==True].shape)"
   ]
  },
  {
   "cell_type": "markdown",
   "metadata": {},
   "source": [
    "Il y a donc 70 patient_id concernés par des problèmes de doublons. On peut commencer par supprimer les doublons de df_pcr (même patient_id et même résultat de PCR), puis recommencer cette étape."
   ]
  },
  {
   "cell_type": "code",
   "execution_count": 358,
   "metadata": {},
   "outputs": [
    {
     "name": "stdout",
     "output_type": "stream",
     "text": [
      "(8779, 2)\n",
      "(28,)\n"
     ]
    }
   ],
   "source": [
    "pcr_unique = df_pcr.drop_duplicates(inplace=False)\n",
    "print(pcr_unique.shape)\n",
    "pcr_all_duplicated = pcr_unique.duplicated(subset=\"patient_id\", keep=False)\n",
    "print(pcr_all_duplicated[pcr_all_duplicated==True].shape)"
   ]
  },
  {
   "cell_type": "markdown",
   "metadata": {},
   "source": [
    "On a donc 28 lignes avec un résultat de PCR différent pour un même patient_id. On ne peut pas décider de quel résultat de PCR est le bon, il y a deux options, soit supprimer ces lignes du dataset, soit les garder en gardant le ratio de tests positifs/tests négatifs ou en prenant un résultat au hasard. Il se pourrait qu'il y ait une autre variable qui entre en compte dans la distribution des résultats de PCR (par exemple l'âge), on va donc supprimer ces lignes."
   ]
  },
  {
   "cell_type": "code",
   "execution_count": 359,
   "metadata": {},
   "outputs": [
    {
     "data": {
      "text/plain": [
       "(8751, 2)"
      ]
     },
     "execution_count": 359,
     "metadata": {},
     "output_type": "execute_result"
    }
   ],
   "source": [
    "df_pcr.drop_duplicates(inplace=True)\n",
    "df_pcr.drop_duplicates(subset=\"patient_id\", keep=False, inplace=True)\n",
    "df_pcr.to_csv(\"clean_pcr.csv\")\n",
    "df_pcr.shape"
   ]
  },
  {
   "cell_type": "markdown",
   "metadata": {},
   "source": [
    "# df_patient\n",
    "\n",
    "On peut maintenant regarder un aperçu ce qu'il y a dans la base de données df_patient:"
   ]
  },
  {
   "cell_type": "code",
   "execution_count": 360,
   "metadata": {},
   "outputs": [
    {
     "data": {
      "text/html": [
       "<div>\n",
       "<style scoped>\n",
       "    .dataframe tbody tr th:only-of-type {\n",
       "        vertical-align: middle;\n",
       "    }\n",
       "\n",
       "    .dataframe tbody tr th {\n",
       "        vertical-align: top;\n",
       "    }\n",
       "\n",
       "    .dataframe thead th {\n",
       "        text-align: right;\n",
       "    }\n",
       "</style>\n",
       "<table border=\"1\" class=\"dataframe\">\n",
       "  <thead>\n",
       "    <tr style=\"text-align: right;\">\n",
       "      <th></th>\n",
       "      <th>patient_id</th>\n",
       "      <th>given_name</th>\n",
       "      <th>surname</th>\n",
       "      <th>street_number</th>\n",
       "      <th>address_1</th>\n",
       "      <th>suburb</th>\n",
       "      <th>postcode</th>\n",
       "      <th>state</th>\n",
       "      <th>date_of_birth</th>\n",
       "      <th>age</th>\n",
       "      <th>phone_number</th>\n",
       "      <th>address_2</th>\n",
       "    </tr>\n",
       "  </thead>\n",
       "  <tbody>\n",
       "    <tr>\n",
       "      <th>0</th>\n",
       "      <td>221958</td>\n",
       "      <td>matisse</td>\n",
       "      <td>clarke</td>\n",
       "      <td>13.0</td>\n",
       "      <td>rene street</td>\n",
       "      <td>ellenbrook</td>\n",
       "      <td>2527</td>\n",
       "      <td>wa</td>\n",
       "      <td>19710708.0</td>\n",
       "      <td>32.0</td>\n",
       "      <td>08 86018809</td>\n",
       "      <td>westella</td>\n",
       "    </tr>\n",
       "    <tr>\n",
       "      <th>1</th>\n",
       "      <td>771155</td>\n",
       "      <td>joshua</td>\n",
       "      <td>elrick</td>\n",
       "      <td>23.0</td>\n",
       "      <td>andrea place</td>\n",
       "      <td>east preston</td>\n",
       "      <td>2074</td>\n",
       "      <td>nsw</td>\n",
       "      <td>19120921.0</td>\n",
       "      <td>34.0</td>\n",
       "      <td>02 97793152</td>\n",
       "      <td>foxdown</td>\n",
       "    </tr>\n",
       "    <tr>\n",
       "      <th>2</th>\n",
       "      <td>231932</td>\n",
       "      <td>alice</td>\n",
       "      <td>conboy</td>\n",
       "      <td>35.0</td>\n",
       "      <td>mountain circuit</td>\n",
       "      <td>prospect</td>\n",
       "      <td>2305</td>\n",
       "      <td>nsw</td>\n",
       "      <td>19810905.0</td>\n",
       "      <td>22.0</td>\n",
       "      <td>02 20403934</td>\n",
       "      <td>None</td>\n",
       "    </tr>\n",
       "    <tr>\n",
       "      <th>3</th>\n",
       "      <td>465838</td>\n",
       "      <td>sienna</td>\n",
       "      <td>craswell</td>\n",
       "      <td>39.0</td>\n",
       "      <td>cumberlegeicrescent</td>\n",
       "      <td>henty</td>\n",
       "      <td>3620</td>\n",
       "      <td>wa</td>\n",
       "      <td>19840809.0</td>\n",
       "      <td>30.0</td>\n",
       "      <td>02 62832318</td>\n",
       "      <td>jodane</td>\n",
       "    </tr>\n",
       "    <tr>\n",
       "      <th>4</th>\n",
       "      <td>359178</td>\n",
       "      <td>joshua</td>\n",
       "      <td>bastiaans</td>\n",
       "      <td>144.0</td>\n",
       "      <td>lowrie street</td>\n",
       "      <td>campbell town</td>\n",
       "      <td>4051</td>\n",
       "      <td>nsw</td>\n",
       "      <td>19340430.0</td>\n",
       "      <td>31.0</td>\n",
       "      <td>03 69359594</td>\n",
       "      <td>None</td>\n",
       "    </tr>\n",
       "  </tbody>\n",
       "</table>\n",
       "</div>"
      ],
      "text/plain": [
       "   patient_id given_name    surname  street_number            address_1  \\\n",
       "0      221958    matisse     clarke           13.0          rene street   \n",
       "1      771155     joshua     elrick           23.0         andrea place   \n",
       "2      231932      alice     conboy           35.0     mountain circuit   \n",
       "3      465838     sienna   craswell           39.0  cumberlegeicrescent   \n",
       "4      359178     joshua  bastiaans          144.0        lowrie street   \n",
       "\n",
       "          suburb postcode state  date_of_birth   age phone_number address_2  \n",
       "0     ellenbrook     2527    wa     19710708.0  32.0  08 86018809  westella  \n",
       "1   east preston     2074   nsw     19120921.0  34.0  02 97793152   foxdown  \n",
       "2       prospect     2305   nsw     19810905.0  22.0  02 20403934      None  \n",
       "3          henty     3620    wa     19840809.0  30.0  02 62832318    jodane  \n",
       "4  campbell town     4051   nsw     19340430.0  31.0  03 69359594      None  "
      ]
     },
     "execution_count": 360,
     "metadata": {},
     "output_type": "execute_result"
    }
   ],
   "source": [
    "df_patient.head()"
   ]
  },
  {
   "cell_type": "code",
   "execution_count": 361,
   "metadata": {},
   "outputs": [
    {
     "name": "stdout",
     "output_type": "stream",
     "text": [
      "(20000, 12)\n"
     ]
    },
    {
     "data": {
      "text/html": [
       "<div>\n",
       "<style scoped>\n",
       "    .dataframe tbody tr th:only-of-type {\n",
       "        vertical-align: middle;\n",
       "    }\n",
       "\n",
       "    .dataframe tbody tr th {\n",
       "        vertical-align: top;\n",
       "    }\n",
       "\n",
       "    .dataframe thead th {\n",
       "        text-align: right;\n",
       "    }\n",
       "</style>\n",
       "<table border=\"1\" class=\"dataframe\">\n",
       "  <thead>\n",
       "    <tr style=\"text-align: right;\">\n",
       "      <th></th>\n",
       "      <th>patient_id</th>\n",
       "      <th>given_name</th>\n",
       "      <th>surname</th>\n",
       "      <th>street_number</th>\n",
       "      <th>address_1</th>\n",
       "      <th>suburb</th>\n",
       "      <th>postcode</th>\n",
       "      <th>state</th>\n",
       "      <th>date_of_birth</th>\n",
       "      <th>age</th>\n",
       "      <th>phone_number</th>\n",
       "      <th>address_2</th>\n",
       "    </tr>\n",
       "  </thead>\n",
       "  <tbody>\n",
       "    <tr>\n",
       "      <th>count</th>\n",
       "      <td>20000.000000</td>\n",
       "      <td>19560</td>\n",
       "      <td>19575</td>\n",
       "      <td>19618.000000</td>\n",
       "      <td>19204</td>\n",
       "      <td>19788</td>\n",
       "      <td>19801</td>\n",
       "      <td>18010</td>\n",
       "      <td>1.798900e+04</td>\n",
       "      <td>16003.000000</td>\n",
       "      <td>19081</td>\n",
       "      <td>7893</td>\n",
       "    </tr>\n",
       "    <tr>\n",
       "      <th>unique</th>\n",
       "      <td>NaN</td>\n",
       "      <td>1171</td>\n",
       "      <td>4273</td>\n",
       "      <td>NaN</td>\n",
       "      <td>4326</td>\n",
       "      <td>2925</td>\n",
       "      <td>2021</td>\n",
       "      <td>102</td>\n",
       "      <td>NaN</td>\n",
       "      <td>NaN</td>\n",
       "      <td>17916</td>\n",
       "      <td>3460</td>\n",
       "    </tr>\n",
       "    <tr>\n",
       "      <th>top</th>\n",
       "      <td>NaN</td>\n",
       "      <td>emiily</td>\n",
       "      <td>white</td>\n",
       "      <td>NaN</td>\n",
       "      <td>paul coe crescent</td>\n",
       "      <td>toowoomba</td>\n",
       "      <td>4350</td>\n",
       "      <td>nsw</td>\n",
       "      <td>NaN</td>\n",
       "      <td>NaN</td>\n",
       "      <td>07 29162528</td>\n",
       "      <td>brentwood vlge</td>\n",
       "    </tr>\n",
       "    <tr>\n",
       "      <th>freq</th>\n",
       "      <td>NaN</td>\n",
       "      <td>373</td>\n",
       "      <td>539</td>\n",
       "      <td>NaN</td>\n",
       "      <td>57</td>\n",
       "      <td>167</td>\n",
       "      <td>96</td>\n",
       "      <td>6143</td>\n",
       "      <td>NaN</td>\n",
       "      <td>NaN</td>\n",
       "      <td>4</td>\n",
       "      <td>85</td>\n",
       "    </tr>\n",
       "    <tr>\n",
       "      <th>mean</th>\n",
       "      <td>553918.938750</td>\n",
       "      <td>NaN</td>\n",
       "      <td>NaN</td>\n",
       "      <td>98.812468</td>\n",
       "      <td>NaN</td>\n",
       "      <td>NaN</td>\n",
       "      <td>NaN</td>\n",
       "      <td>NaN</td>\n",
       "      <td>1.949638e+07</td>\n",
       "      <td>27.534337</td>\n",
       "      <td>NaN</td>\n",
       "      <td>NaN</td>\n",
       "    </tr>\n",
       "    <tr>\n",
       "      <th>std</th>\n",
       "      <td>260234.961111</td>\n",
       "      <td>NaN</td>\n",
       "      <td>NaN</td>\n",
       "      <td>2481.908686</td>\n",
       "      <td>NaN</td>\n",
       "      <td>NaN</td>\n",
       "      <td>NaN</td>\n",
       "      <td>NaN</td>\n",
       "      <td>2.926916e+05</td>\n",
       "      <td>7.807008</td>\n",
       "      <td>NaN</td>\n",
       "      <td>NaN</td>\n",
       "    </tr>\n",
       "    <tr>\n",
       "      <th>min</th>\n",
       "      <td>100005.000000</td>\n",
       "      <td>NaN</td>\n",
       "      <td>NaN</td>\n",
       "      <td>0.000000</td>\n",
       "      <td>NaN</td>\n",
       "      <td>NaN</td>\n",
       "      <td>NaN</td>\n",
       "      <td>NaN</td>\n",
       "      <td>1.290041e+07</td>\n",
       "      <td>0.000000</td>\n",
       "      <td>NaN</td>\n",
       "      <td>NaN</td>\n",
       "    </tr>\n",
       "    <tr>\n",
       "      <th>25%</th>\n",
       "      <td>330194.250000</td>\n",
       "      <td>NaN</td>\n",
       "      <td>NaN</td>\n",
       "      <td>10.000000</td>\n",
       "      <td>NaN</td>\n",
       "      <td>NaN</td>\n",
       "      <td>NaN</td>\n",
       "      <td>NaN</td>\n",
       "      <td>1.924113e+07</td>\n",
       "      <td>24.000000</td>\n",
       "      <td>NaN</td>\n",
       "      <td>NaN</td>\n",
       "    </tr>\n",
       "    <tr>\n",
       "      <th>50%</th>\n",
       "      <td>556327.500000</td>\n",
       "      <td>NaN</td>\n",
       "      <td>NaN</td>\n",
       "      <td>24.000000</td>\n",
       "      <td>NaN</td>\n",
       "      <td>NaN</td>\n",
       "      <td>NaN</td>\n",
       "      <td>NaN</td>\n",
       "      <td>1.950032e+07</td>\n",
       "      <td>29.000000</td>\n",
       "      <td>NaN</td>\n",
       "      <td>NaN</td>\n",
       "    </tr>\n",
       "    <tr>\n",
       "      <th>75%</th>\n",
       "      <td>779419.500000</td>\n",
       "      <td>NaN</td>\n",
       "      <td>NaN</td>\n",
       "      <td>60.000000</td>\n",
       "      <td>NaN</td>\n",
       "      <td>NaN</td>\n",
       "      <td>NaN</td>\n",
       "      <td>NaN</td>\n",
       "      <td>1.975052e+07</td>\n",
       "      <td>33.000000</td>\n",
       "      <td>NaN</td>\n",
       "      <td>NaN</td>\n",
       "    </tr>\n",
       "    <tr>\n",
       "      <th>max</th>\n",
       "      <td>999993.000000</td>\n",
       "      <td>NaN</td>\n",
       "      <td>NaN</td>\n",
       "      <td>342951.000000</td>\n",
       "      <td>NaN</td>\n",
       "      <td>NaN</td>\n",
       "      <td>NaN</td>\n",
       "      <td>NaN</td>\n",
       "      <td>1.999123e+07</td>\n",
       "      <td>92.000000</td>\n",
       "      <td>NaN</td>\n",
       "      <td>NaN</td>\n",
       "    </tr>\n",
       "  </tbody>\n",
       "</table>\n",
       "</div>"
      ],
      "text/plain": [
       "           patient_id given_name surname  street_number          address_1  \\\n",
       "count    20000.000000      19560   19575   19618.000000              19204   \n",
       "unique            NaN       1171    4273            NaN               4326   \n",
       "top               NaN     emiily   white            NaN  paul coe crescent   \n",
       "freq              NaN        373     539            NaN                 57   \n",
       "mean    553918.938750        NaN     NaN      98.812468                NaN   \n",
       "std     260234.961111        NaN     NaN    2481.908686                NaN   \n",
       "min     100005.000000        NaN     NaN       0.000000                NaN   \n",
       "25%     330194.250000        NaN     NaN      10.000000                NaN   \n",
       "50%     556327.500000        NaN     NaN      24.000000                NaN   \n",
       "75%     779419.500000        NaN     NaN      60.000000                NaN   \n",
       "max     999993.000000        NaN     NaN  342951.000000                NaN   \n",
       "\n",
       "           suburb postcode  state  date_of_birth           age phone_number  \\\n",
       "count       19788    19801  18010   1.798900e+04  16003.000000        19081   \n",
       "unique       2925     2021    102            NaN           NaN        17916   \n",
       "top     toowoomba     4350    nsw            NaN           NaN  07 29162528   \n",
       "freq          167       96   6143            NaN           NaN            4   \n",
       "mean          NaN      NaN    NaN   1.949638e+07     27.534337          NaN   \n",
       "std           NaN      NaN    NaN   2.926916e+05      7.807008          NaN   \n",
       "min           NaN      NaN    NaN   1.290041e+07      0.000000          NaN   \n",
       "25%           NaN      NaN    NaN   1.924113e+07     24.000000          NaN   \n",
       "50%           NaN      NaN    NaN   1.950032e+07     29.000000          NaN   \n",
       "75%           NaN      NaN    NaN   1.975052e+07     33.000000          NaN   \n",
       "max           NaN      NaN    NaN   1.999123e+07     92.000000          NaN   \n",
       "\n",
       "             address_2  \n",
       "count             7893  \n",
       "unique            3460  \n",
       "top     brentwood vlge  \n",
       "freq                85  \n",
       "mean               NaN  \n",
       "std                NaN  \n",
       "min                NaN  \n",
       "25%                NaN  \n",
       "50%                NaN  \n",
       "75%                NaN  \n",
       "max                NaN  "
      ]
     },
     "execution_count": 361,
     "metadata": {},
     "output_type": "execute_result"
    }
   ],
   "source": [
    "print(df_patient.shape)\n",
    "df_patient.describe(include=\"all\")"
   ]
  },
  {
   "cell_type": "markdown",
   "metadata": {},
   "source": [
    "On a donc 20.000 lignes dans cette DB, et 12 colonnes. Il y a beaucoup de NaN sur la ligne \"unique\" (il n'y a pas de unique pour les nombres), on peut donc se douter du type des différentes colonnes mais regardons ça de plus près."
   ]
  },
  {
   "cell_type": "code",
   "execution_count": 362,
   "metadata": {},
   "outputs": [
    {
     "name": "stdout",
     "output_type": "stream",
     "text": [
      "patient_id         int64\n",
      "given_name        object\n",
      "surname           object\n",
      "street_number    float64\n",
      "address_1         object\n",
      "suburb            object\n",
      "postcode          object\n",
      "state             object\n",
      "date_of_birth    float64\n",
      "age              float64\n",
      "phone_number      object\n",
      "address_2         object\n",
      "dtype: object\n"
     ]
    }
   ],
   "source": [
    "print(df_patient.dtypes)"
   ]
  },
  {
   "cell_type": "markdown",
   "metadata": {},
   "source": [
    "Quelques types semblent pouvoir être améliorés, street number pourrait être un entier et date_of_birth devrait être une date plutôt qu'un float par exemple. Pour chacune des colonnes, nous regarderons ce qu'elle contient pour voir si on peut en effet changer le type des données. On peut déjà estimer la quantité de données manquantes pour chaque colonne."
   ]
  },
  {
   "cell_type": "code",
   "execution_count": 363,
   "metadata": {},
   "outputs": [
    {
     "name": "stdout",
     "output_type": "stream",
     "text": [
      "patient_id        0.00%\n",
      "given_name        2.20%\n",
      "surname           2.12%\n",
      "street_number     1.91%\n",
      "address_1         3.98%\n",
      "suburb            1.06%\n",
      "postcode          1.00%\n",
      "state             9.95%\n",
      "date_of_birth     10.05%\n",
      "age               19.98%\n",
      "phone_number      4.59%\n",
      "address_2         60.54%\n"
     ]
    }
   ],
   "source": [
    "na_per_feature = {}\n",
    "for feature in df_patient.columns:\n",
    "    nb_na = len(df_patient[df_patient[feature].isna()])\n",
    "    na_per_feature[feature] = nb_na\n",
    "    print(\"{0:15}   {1}\".format(feature,f'{nb_na/len(df_patient)*100:.2f}'+\"%\"))\n",
    "    "
   ]
  },
  {
   "cell_type": "markdown",
   "metadata": {},
   "source": [
    "Il manque énormément de 2e adresses, ainsi que beaucoup d'états, de dates de naissance et d'âges. Ce sera à prendre en compte lors du choix de features pour trouver les doublons. "
   ]
  },
  {
   "cell_type": "markdown",
   "metadata": {},
   "source": [
    "## 1. patient_id"
   ]
  },
  {
   "cell_type": "markdown",
   "metadata": {},
   "source": [
    "Regardons tout d'abord la quantité de données manquantes dans cette première colonne. (C'est un sanity check, on a vu plus haut qu'il y avait bien 20.000 données dans cette colonne)"
   ]
  },
  {
   "cell_type": "code",
   "execution_count": 364,
   "metadata": {},
   "outputs": [
    {
     "data": {
      "text/plain": [
       "0"
      ]
     },
     "execution_count": 364,
     "metadata": {},
     "output_type": "execute_result"
    }
   ],
   "source": [
    "len(df_patient[df_patient.patient_id.isna()])"
   ]
  },
  {
   "cell_type": "markdown",
   "metadata": {},
   "source": [
    "C'est bon signe, tous les échantillons ont un patient_id associé. Pas besoin de vérifier si des lignes ont un patient_id vide (pas NaN mais \" \", par exemple), puisque ce sont des entiers."
   ]
  },
  {
   "cell_type": "markdown",
   "metadata": {},
   "source": [
    "On s'attend à ce que les id des différents patient soient uniques, vérifions cela."
   ]
  },
  {
   "cell_type": "code",
   "execution_count": 365,
   "metadata": {},
   "outputs": [],
   "source": [
    "patient_id_dup = df_patient[df_patient.patient_id.duplicated(keep=False)]"
   ]
  },
  {
   "cell_type": "code",
   "execution_count": 366,
   "metadata": {},
   "outputs": [
    {
     "data": {
      "text/plain": [
       "(403, 12)"
      ]
     },
     "execution_count": 366,
     "metadata": {},
     "output_type": "execute_result"
    }
   ],
   "source": [
    "patient_id_dup.shape"
   ]
  },
  {
   "cell_type": "markdown",
   "metadata": {},
   "source": [
    "Cela fait donc 403 rows concernés par des doublons de *patient_id*, on est loin de la clé unique. Voyons si on peut avoir une meilleure idée de ce qui se passe, peut-être que les id correspondent à des gens qui sont venus plusieurs fois."
   ]
  },
  {
   "cell_type": "code",
   "execution_count": 367,
   "metadata": {},
   "outputs": [
    {
     "data": {
      "text/html": [
       "<div>\n",
       "<style scoped>\n",
       "    .dataframe tbody tr th:only-of-type {\n",
       "        vertical-align: middle;\n",
       "    }\n",
       "\n",
       "    .dataframe tbody tr th {\n",
       "        vertical-align: top;\n",
       "    }\n",
       "\n",
       "    .dataframe thead th {\n",
       "        text-align: right;\n",
       "    }\n",
       "</style>\n",
       "<table border=\"1\" class=\"dataframe\">\n",
       "  <thead>\n",
       "    <tr style=\"text-align: right;\">\n",
       "      <th></th>\n",
       "      <th>patient_id</th>\n",
       "      <th>given_name</th>\n",
       "      <th>surname</th>\n",
       "      <th>street_number</th>\n",
       "      <th>address_1</th>\n",
       "      <th>suburb</th>\n",
       "      <th>postcode</th>\n",
       "      <th>state</th>\n",
       "      <th>date_of_birth</th>\n",
       "      <th>age</th>\n",
       "      <th>phone_number</th>\n",
       "      <th>address_2</th>\n",
       "    </tr>\n",
       "  </thead>\n",
       "  <tbody>\n",
       "    <tr>\n",
       "      <th>22</th>\n",
       "      <td>427069</td>\n",
       "      <td>mystique</td>\n",
       "      <td>white</td>\n",
       "      <td>85.0</td>\n",
       "      <td>herington street</td>\n",
       "      <td>east maitland</td>\n",
       "      <td>6000</td>\n",
       "      <td>qld</td>\n",
       "      <td>NaN</td>\n",
       "      <td>21.0</td>\n",
       "      <td>07 24234495</td>\n",
       "      <td>None</td>\n",
       "    </tr>\n",
       "    <tr>\n",
       "      <th>5697</th>\n",
       "      <td>427069</td>\n",
       "      <td>zack</td>\n",
       "      <td>turtur</td>\n",
       "      <td>17.0</td>\n",
       "      <td>denny sxreet</td>\n",
       "      <td>nedlands</td>\n",
       "      <td>2195</td>\n",
       "      <td>nsw</td>\n",
       "      <td>19391105.0</td>\n",
       "      <td>34.0</td>\n",
       "      <td>04 85338899</td>\n",
       "      <td>glen wilga</td>\n",
       "    </tr>\n",
       "  </tbody>\n",
       "</table>\n",
       "</div>"
      ],
      "text/plain": [
       "      patient_id given_name surname  street_number         address_1  \\\n",
       "22        427069   mystique   white           85.0  herington street   \n",
       "5697      427069       zack  turtur           17.0      denny sxreet   \n",
       "\n",
       "             suburb postcode state  date_of_birth   age phone_number  \\\n",
       "22    east maitland     6000   qld            NaN  21.0  07 24234495   \n",
       "5697       nedlands     2195   nsw     19391105.0  34.0  04 85338899   \n",
       "\n",
       "       address_2  \n",
       "22          None  \n",
       "5697  glen wilga  "
      ]
     },
     "execution_count": 367,
     "metadata": {},
     "output_type": "execute_result"
    }
   ],
   "source": [
    "patient_id_dup[patient_id_dup.patient_id == patient_id_dup.patient_id.iloc[0]]"
   ]
  },
  {
   "cell_type": "markdown",
   "metadata": {},
   "source": [
    "On peut voir en prenant ce premier exemple qu'un même patient_id peut correspondre à deux personnes complètement différentes."
   ]
  },
  {
   "cell_type": "markdown",
   "metadata": {},
   "source": [
    "Il y a vraiment des erreurs dans les patient_id, cet id ne correspond pas du tout à la même personne lors de ses deux utilisations. La question est, peut-on recouper ces informations avec celles des données de PCR, i.e. qu'y a-t-il dans df_pcr ?"
   ]
  },
  {
   "cell_type": "markdown",
   "metadata": {},
   "source": [
    "Il semblerait qu'il soit impossible de recouper les informations s'il y a un doublon de patient_id qui ne correspond pas à la même personne (on ne sait pas si le résultat de PCR appartient à l'un ou à l'autre des patients). Il parait donc plus judicieux de les enlever de chaque table puisqu'on ne peut pas attribuer la valeur de PCR à un des patients correspondants, même si cela réduit notre quantité de données, on risquerait d'introduire des erreurs dans les statistiques calculées plus tard."
   ]
  },
  {
   "cell_type": "code",
   "execution_count": 368,
   "metadata": {},
   "outputs": [],
   "source": [
    "df_patient = df_patient[~df_patient.patient_id.isin(patient_id_dup.patient_id)]"
   ]
  },
  {
   "cell_type": "code",
   "execution_count": 369,
   "metadata": {},
   "outputs": [
    {
     "data": {
      "text/plain": [
       "(19597, 12)"
      ]
     },
     "execution_count": 369,
     "metadata": {},
     "output_type": "execute_result"
    }
   ],
   "source": [
    "df_patient.shape"
   ]
  },
  {
   "cell_type": "markdown",
   "metadata": {},
   "source": [
    "Nous avons bien retiré les 403 lignes impliquées dans des doublons de patient_id."
   ]
  },
  {
   "cell_type": "markdown",
   "metadata": {},
   "source": [
    "## 2. given_name and surname"
   ]
  },
  {
   "cell_type": "code",
   "execution_count": 370,
   "metadata": {},
   "outputs": [
    {
     "data": {
      "text/plain": [
       "429"
      ]
     },
     "execution_count": 370,
     "metadata": {},
     "output_type": "execute_result"
    }
   ],
   "source": [
    "len(df_patient[df_patient.given_name.isna()])"
   ]
  },
  {
   "cell_type": "markdown",
   "metadata": {},
   "source": [
    "Il y a 429 lignes pour lesquelles le prénom est manquant."
   ]
  },
  {
   "cell_type": "code",
   "execution_count": 371,
   "metadata": {},
   "outputs": [
    {
     "data": {
      "text/plain": [
       "419"
      ]
     },
     "execution_count": 371,
     "metadata": {},
     "output_type": "execute_result"
    }
   ],
   "source": [
    "len(df_patient[df_patient.surname.isna()])"
   ]
  },
  {
   "cell_type": "markdown",
   "metadata": {},
   "source": [
    "Il y a 419 lignes pour lesquelles le nom de famille est manquant. Y a-t-il des lignes pour lesquelles les deux informations sont absentes?"
   ]
  },
  {
   "cell_type": "code",
   "execution_count": 372,
   "metadata": {},
   "outputs": [
    {
     "data": {
      "text/html": [
       "<div>\n",
       "<style scoped>\n",
       "    .dataframe tbody tr th:only-of-type {\n",
       "        vertical-align: middle;\n",
       "    }\n",
       "\n",
       "    .dataframe tbody tr th {\n",
       "        vertical-align: top;\n",
       "    }\n",
       "\n",
       "    .dataframe thead th {\n",
       "        text-align: right;\n",
       "    }\n",
       "</style>\n",
       "<table border=\"1\" class=\"dataframe\">\n",
       "  <thead>\n",
       "    <tr style=\"text-align: right;\">\n",
       "      <th></th>\n",
       "      <th>patient_id</th>\n",
       "      <th>given_name</th>\n",
       "      <th>surname</th>\n",
       "      <th>street_number</th>\n",
       "      <th>address_1</th>\n",
       "      <th>suburb</th>\n",
       "      <th>postcode</th>\n",
       "      <th>state</th>\n",
       "      <th>date_of_birth</th>\n",
       "      <th>age</th>\n",
       "      <th>phone_number</th>\n",
       "      <th>address_2</th>\n",
       "    </tr>\n",
       "  </thead>\n",
       "  <tbody>\n",
       "    <tr>\n",
       "      <th>4598</th>\n",
       "      <td>340891</td>\n",
       "      <td>None</td>\n",
       "      <td>None</td>\n",
       "      <td>70.0</td>\n",
       "      <td>fawkner street</td>\n",
       "      <td>gorokan</td>\n",
       "      <td>3178</td>\n",
       "      <td>vic</td>\n",
       "      <td>19150429.0</td>\n",
       "      <td>24.0</td>\n",
       "      <td>07 49934506</td>\n",
       "      <td>llangollen</td>\n",
       "    </tr>\n",
       "    <tr>\n",
       "      <th>6663</th>\n",
       "      <td>211362</td>\n",
       "      <td>None</td>\n",
       "      <td>None</td>\n",
       "      <td>3.0</td>\n",
       "      <td>sternberg crescent</td>\n",
       "      <td>elsterneick</td>\n",
       "      <td>2502</td>\n",
       "      <td>nsw</td>\n",
       "      <td>19000422.0</td>\n",
       "      <td>32.0</td>\n",
       "      <td>03 96314344</td>\n",
       "      <td>None</td>\n",
       "    </tr>\n",
       "    <tr>\n",
       "      <th>10664</th>\n",
       "      <td>644475</td>\n",
       "      <td>None</td>\n",
       "      <td>None</td>\n",
       "      <td>22.0</td>\n",
       "      <td>john xxiii college</td>\n",
       "      <td>craigmore</td>\n",
       "      <td>5046</td>\n",
       "      <td>tas</td>\n",
       "      <td>19781105.0</td>\n",
       "      <td>31.0</td>\n",
       "      <td>None</td>\n",
       "      <td>None</td>\n",
       "    </tr>\n",
       "    <tr>\n",
       "      <th>18526</th>\n",
       "      <td>207001</td>\n",
       "      <td>None</td>\n",
       "      <td>None</td>\n",
       "      <td>20.0</td>\n",
       "      <td>kirkwood crescent</td>\n",
       "      <td>cooroy</td>\n",
       "      <td>3231</td>\n",
       "      <td>None</td>\n",
       "      <td>19960825.0</td>\n",
       "      <td>30.0</td>\n",
       "      <td>03 16641630</td>\n",
       "      <td>None</td>\n",
       "    </tr>\n",
       "  </tbody>\n",
       "</table>\n",
       "</div>"
      ],
      "text/plain": [
       "       patient_id given_name surname  street_number           address_1  \\\n",
       "4598       340891       None    None           70.0      fawkner street   \n",
       "6663       211362       None    None            3.0  sternberg crescent   \n",
       "10664      644475       None    None           22.0  john xxiii college   \n",
       "18526      207001       None    None           20.0   kirkwood crescent   \n",
       "\n",
       "            suburb postcode state  date_of_birth   age phone_number  \\\n",
       "4598       gorokan     3178   vic     19150429.0  24.0  07 49934506   \n",
       "6663   elsterneick     2502   nsw     19000422.0  32.0  03 96314344   \n",
       "10664    craigmore     5046   tas     19781105.0  31.0         None   \n",
       "18526       cooroy     3231  None     19960825.0  30.0  03 16641630   \n",
       "\n",
       "        address_2  \n",
       "4598   llangollen  \n",
       "6663         None  \n",
       "10664        None  \n",
       "18526        None  "
      ]
     },
     "execution_count": 372,
     "metadata": {},
     "output_type": "execute_result"
    }
   ],
   "source": [
    "df_patient[df_patient.given_name.isna() & df_patient.surname.isna()]"
   ]
  },
  {
   "cell_type": "code",
   "execution_count": 373,
   "metadata": {},
   "outputs": [
    {
     "data": {
      "text/plain": [
       "844"
      ]
     },
     "execution_count": 373,
     "metadata": {},
     "output_type": "execute_result"
    }
   ],
   "source": [
    "len(df_patient[df_patient.given_name.isna() | df_patient.surname.isna()])"
   ]
  },
  {
   "cell_type": "markdown",
   "metadata": {},
   "source": [
    "Nous avons donc 844 lignes où soit le nom, soit le prénom, soit les deux sont manquants. La gestion de doublons pour ces lignes ne pourra pas s'appuyer uniquement sur les noms et prénoms, il sera donc important d'inclure d'autres données dans cette fonction."
   ]
  },
  {
   "cell_type": "code",
   "execution_count": 374,
   "metadata": {},
   "outputs": [
    {
     "data": {
      "text/html": [
       "<div>\n",
       "<style scoped>\n",
       "    .dataframe tbody tr th:only-of-type {\n",
       "        vertical-align: middle;\n",
       "    }\n",
       "\n",
       "    .dataframe tbody tr th {\n",
       "        vertical-align: top;\n",
       "    }\n",
       "\n",
       "    .dataframe thead th {\n",
       "        text-align: right;\n",
       "    }\n",
       "</style>\n",
       "<table border=\"1\" class=\"dataframe\">\n",
       "  <thead>\n",
       "    <tr style=\"text-align: right;\">\n",
       "      <th></th>\n",
       "      <th>patient_id</th>\n",
       "      <th>given_name</th>\n",
       "      <th>surname</th>\n",
       "      <th>street_number</th>\n",
       "      <th>address_1</th>\n",
       "      <th>suburb</th>\n",
       "      <th>postcode</th>\n",
       "      <th>state</th>\n",
       "      <th>date_of_birth</th>\n",
       "      <th>age</th>\n",
       "      <th>phone_number</th>\n",
       "      <th>address_2</th>\n",
       "    </tr>\n",
       "  </thead>\n",
       "  <tbody>\n",
       "  </tbody>\n",
       "</table>\n",
       "</div>"
      ],
      "text/plain": [
       "Empty DataFrame\n",
       "Columns: [patient_id, given_name, surname, street_number, address_1, suburb, postcode, state, date_of_birth, age, phone_number, address_2]\n",
       "Index: []"
      ]
     },
     "execution_count": 374,
     "metadata": {},
     "output_type": "execute_result"
    }
   ],
   "source": [
    "df_patient[(df_patient.given_name==\"\") | (df_patient.surname==\"\")]"
   ]
  },
  {
   "cell_type": "markdown",
   "metadata": {},
   "source": [
    "Il n'y a pas de nom ou prénom où la valeur associée est une chaîne de caractères vides, on peut remplacer les données manquantes par des chaînes de caractères vides."
   ]
  },
  {
   "cell_type": "code",
   "execution_count": 375,
   "metadata": {},
   "outputs": [
    {
     "name": "stderr",
     "output_type": "stream",
     "text": [
      "/Library/Frameworks/Python.framework/Versions/3.7/lib/python3.7/site-packages/pandas/core/frame.py:4322: SettingWithCopyWarning: \n",
      "A value is trying to be set on a copy of a slice from a DataFrame\n",
      "\n",
      "See the caveats in the documentation: https://pandas.pydata.org/pandas-docs/stable/user_guide/indexing.html#returning-a-view-versus-a-copy\n",
      "  downcast=downcast,\n"
     ]
    }
   ],
   "source": [
    "df_patient[['given_name','surname']].fillna(value=\"\", inplace=True)"
   ]
  },
  {
   "cell_type": "markdown",
   "metadata": {},
   "source": [
    "## 3. street_number"
   ]
  },
  {
   "cell_type": "code",
   "execution_count": 376,
   "metadata": {},
   "outputs": [
    {
     "data": {
      "text/plain": [
       "374"
      ]
     },
     "execution_count": 376,
     "metadata": {},
     "output_type": "execute_result"
    }
   ],
   "source": [
    "len(df_patient[df_patient.street_number.isna()])"
   ]
  },
  {
   "cell_type": "markdown",
   "metadata": {},
   "source": [
    "Il y a 374 rows où la donnée street_number est manquante."
   ]
  },
  {
   "cell_type": "code",
   "execution_count": 377,
   "metadata": {},
   "outputs": [
    {
     "data": {
      "text/plain": [
       "0"
      ]
     },
     "execution_count": 377,
     "metadata": {},
     "output_type": "execute_result"
    }
   ],
   "source": [
    "len(df_patient[df_patient.street_number<0])"
   ]
  },
  {
   "cell_type": "markdown",
   "metadata": {},
   "source": [
    "Aucun numéro de rue n'est négatif, ils semblent donc cohérents pour l'instant."
   ]
  },
  {
   "cell_type": "code",
   "execution_count": 378,
   "metadata": {},
   "outputs": [
    {
     "data": {
      "text/plain": [
       "374"
      ]
     },
     "execution_count": 378,
     "metadata": {},
     "output_type": "execute_result"
    }
   ],
   "source": [
    "len(df_patient[(df_patient.street_number * 10 % 10 != 0) | (df_patient.street_number.isna())])"
   ]
  },
  {
   "cell_type": "markdown",
   "metadata": {},
   "source": [
    "Il semblerait que toutes les cellules soient des entiers, sauf celles où l'information n'est pas renseignée."
   ]
  },
  {
   "cell_type": "code",
   "execution_count": 379,
   "metadata": {},
   "outputs": [
    {
     "data": {
      "text/plain": [
       "6"
      ]
     },
     "execution_count": 379,
     "metadata": {},
     "output_type": "execute_result"
    }
   ],
   "source": [
    "len(df_patient[df_patient.street_number==0])"
   ]
  },
  {
   "cell_type": "markdown",
   "metadata": {},
   "source": [
    "Certaines adresses ont pour numéro de rue '0'. Curieux, mais cela ne deviendra donc pas notre valeur par défaut pour les rows où cette information n'est pas fournie. On y met -1, pour pouvoir récupérer plus tard les adresses où le numéro était manquant."
   ]
  },
  {
   "cell_type": "code",
   "execution_count": 380,
   "metadata": {},
   "outputs": [],
   "source": [
    "df_patient.street_number.fillna(-1, inplace=True)"
   ]
  },
  {
   "cell_type": "markdown",
   "metadata": {},
   "source": [
    "On peut maintenant sereinement changer le type de cette colonne."
   ]
  },
  {
   "cell_type": "code",
   "execution_count": 381,
   "metadata": {},
   "outputs": [
    {
     "name": "stdout",
     "output_type": "stream",
     "text": [
      "patient_id         int64\n",
      "given_name        object\n",
      "surname           object\n",
      "street_number      int64\n",
      "address_1         object\n",
      "suburb            object\n",
      "postcode          object\n",
      "state             object\n",
      "date_of_birth    float64\n",
      "age              float64\n",
      "phone_number      object\n",
      "address_2         object\n",
      "dtype: object\n"
     ]
    }
   ],
   "source": [
    "df_patient['street_number'] = np.int64(df_patient['street_number'])\n",
    "print(df_patient.dtypes)"
   ]
  },
  {
   "cell_type": "markdown",
   "metadata": {},
   "source": [
    "Regardons maintenant s'il y a des données incohérentes."
   ]
  },
  {
   "cell_type": "code",
   "execution_count": 382,
   "metadata": {},
   "outputs": [
    {
     "data": {
      "text/plain": [
       "<matplotlib.axes._subplots.AxesSubplot at 0x123315748>"
      ]
     },
     "execution_count": 382,
     "metadata": {},
     "output_type": "execute_result"
    },
    {
     "data": {
      "image/png": "[encoded data removed]",
      "text/plain": [
       "<Figure size 432x288 with 1 Axes>"
      ]
     },
     "metadata": {
      "needs_background": "light"
     },
     "output_type": "display_data"
    }
   ],
   "source": [
    "sns.scatterplot(data=df_patient, x=\"street_number\", y=\"state\")"
   ]
  },
  {
   "cell_type": "markdown",
   "metadata": {},
   "source": [
    "Il semblerait qu'il y ait des valeurs incohérentes dans les numéros de rue (on peut avoir de grandes rues, mais pas aussi longues)."
   ]
  },
  {
   "cell_type": "code",
   "execution_count": 383,
   "metadata": {},
   "outputs": [
    {
     "name": "stdout",
     "output_type": "stream",
     "text": [
      "Median street number: 24.0\n"
     ]
    }
   ],
   "source": [
    "median_street_number = df_patient.street_number.median(axis=0)\n",
    "print(\"Median street number:\", median_street_number)\n",
    "std_street_number = df_patient.street_number.std(axis=0)"
   ]
  },
  {
   "cell_type": "code",
   "execution_count": 384,
   "metadata": {},
   "outputs": [
    {
     "data": {
      "text/html": [
       "<div>\n",
       "<style scoped>\n",
       "    .dataframe tbody tr th:only-of-type {\n",
       "        vertical-align: middle;\n",
       "    }\n",
       "\n",
       "    .dataframe tbody tr th {\n",
       "        vertical-align: top;\n",
       "    }\n",
       "\n",
       "    .dataframe thead th {\n",
       "        text-align: right;\n",
       "    }\n",
       "</style>\n",
       "<table border=\"1\" class=\"dataframe\">\n",
       "  <thead>\n",
       "    <tr style=\"text-align: right;\">\n",
       "      <th></th>\n",
       "      <th>patient_id</th>\n",
       "      <th>given_name</th>\n",
       "      <th>surname</th>\n",
       "      <th>street_number</th>\n",
       "      <th>address_1</th>\n",
       "      <th>suburb</th>\n",
       "      <th>postcode</th>\n",
       "      <th>state</th>\n",
       "      <th>date_of_birth</th>\n",
       "      <th>age</th>\n",
       "      <th>phone_number</th>\n",
       "      <th>address_2</th>\n",
       "    </tr>\n",
       "  </thead>\n",
       "  <tbody>\n",
       "    <tr>\n",
       "      <th>7055</th>\n",
       "      <td>869217</td>\n",
       "      <td>nicholas</td>\n",
       "      <td>fitzpatrick</td>\n",
       "      <td>342951</td>\n",
       "      <td>taylor place</td>\n",
       "      <td>normanhurst</td>\n",
       "      <td>4560</td>\n",
       "      <td>nsw</td>\n",
       "      <td>19680530.0</td>\n",
       "      <td>13.0</td>\n",
       "      <td>08 37654995</td>\n",
       "      <td>None</td>\n",
       "    </tr>\n",
       "    <tr>\n",
       "      <th>12440</th>\n",
       "      <td>446997</td>\n",
       "      <td>jessica</td>\n",
       "      <td>matthews</td>\n",
       "      <td>39430</td>\n",
       "      <td>airey crescent</td>\n",
       "      <td>plumpton</td>\n",
       "      <td>3173</td>\n",
       "      <td>vic</td>\n",
       "      <td>19331014.0</td>\n",
       "      <td>29.0</td>\n",
       "      <td>02 15333991</td>\n",
       "      <td>summer hill</td>\n",
       "    </tr>\n",
       "    <tr>\n",
       "      <th>18456</th>\n",
       "      <td>232871</td>\n",
       "      <td>None</td>\n",
       "      <td>britten</td>\n",
       "      <td>12569</td>\n",
       "      <td>streeton drive</td>\n",
       "      <td>bowenvale</td>\n",
       "      <td>3162</td>\n",
       "      <td>nsw</td>\n",
       "      <td>19730215.0</td>\n",
       "      <td>NaN</td>\n",
       "      <td>04 25029200</td>\n",
       "      <td>sanctuary vlge</td>\n",
       "    </tr>\n",
       "  </tbody>\n",
       "</table>\n",
       "</div>"
      ],
      "text/plain": [
       "       patient_id given_name      surname  street_number       address_1  \\\n",
       "7055       869217   nicholas  fitzpatrick         342951    taylor place   \n",
       "12440      446997    jessica     matthews          39430  airey crescent   \n",
       "18456      232871       None      britten          12569  streeton drive   \n",
       "\n",
       "            suburb postcode state  date_of_birth   age phone_number  \\\n",
       "7055   normanhurst     4560   nsw     19680530.0  13.0  08 37654995   \n",
       "12440     plumpton     3173   vic     19331014.0  29.0  02 15333991   \n",
       "18456    bowenvale     3162   nsw     19730215.0   NaN  04 25029200   \n",
       "\n",
       "            address_2  \n",
       "7055             None  \n",
       "12440     summer hill  \n",
       "18456  sanctuary vlge  "
      ]
     },
     "execution_count": 384,
     "metadata": {},
     "output_type": "execute_result"
    }
   ],
   "source": [
    "df_patient[df_patient.street_number > median_street_number + 5*std_street_number]"
   ]
  },
  {
   "cell_type": "markdown",
   "metadata": {},
   "source": [
    "Il y a bien des numéros de rue qui semblent incohérents, cependant nous ne changerons rien aux numéros de rue, il est compliqué de les corriger et cela ne devrait pas changer de beaucoup le fuzzy matching."
   ]
  },
  {
   "cell_type": "markdown",
   "metadata": {},
   "source": [
    "## 4. address_1 et address_2"
   ]
  },
  {
   "cell_type": "code",
   "execution_count": 385,
   "metadata": {},
   "outputs": [
    {
     "name": "stdout",
     "output_type": "stream",
     "text": [
      "781 11872\n"
     ]
    }
   ],
   "source": [
    "print(len(df_patient[df_patient.address_1.isna()]), len(df_patient[df_patient.address_2.isna()]))"
   ]
  },
  {
   "cell_type": "markdown",
   "metadata": {},
   "source": [
    "Cela fait 781 lignes où l'adresse 1 est manquante, et beaucoup plus pour l'adresse 2. Il est possible que certains doublons ne soient pas trouvés dû à l'absence d'adresse pour certains échantillons. Voyons s'il y a des adresses incohérentes (chiffres, caractères spéciaux,...)."
   ]
  },
  {
   "cell_type": "code",
   "execution_count": 386,
   "metadata": {},
   "outputs": [
    {
     "data": {
      "text/html": [
       "<div>\n",
       "<style scoped>\n",
       "    .dataframe tbody tr th:only-of-type {\n",
       "        vertical-align: middle;\n",
       "    }\n",
       "\n",
       "    .dataframe tbody tr th {\n",
       "        vertical-align: top;\n",
       "    }\n",
       "\n",
       "    .dataframe thead th {\n",
       "        text-align: right;\n",
       "    }\n",
       "</style>\n",
       "<table border=\"1\" class=\"dataframe\">\n",
       "  <thead>\n",
       "    <tr style=\"text-align: right;\">\n",
       "      <th></th>\n",
       "      <th>patient_id</th>\n",
       "      <th>given_name</th>\n",
       "      <th>surname</th>\n",
       "      <th>street_number</th>\n",
       "      <th>address_1</th>\n",
       "      <th>suburb</th>\n",
       "      <th>postcode</th>\n",
       "      <th>state</th>\n",
       "      <th>date_of_birth</th>\n",
       "      <th>age</th>\n",
       "      <th>phone_number</th>\n",
       "      <th>address_2</th>\n",
       "    </tr>\n",
       "  </thead>\n",
       "  <tbody>\n",
       "  </tbody>\n",
       "</table>\n",
       "</div>"
      ],
      "text/plain": [
       "Empty DataFrame\n",
       "Columns: [patient_id, given_name, surname, street_number, address_1, suburb, postcode, state, date_of_birth, age, phone_number, address_2]\n",
       "Index: []"
      ]
     },
     "execution_count": 386,
     "metadata": {},
     "output_type": "execute_result"
    }
   ],
   "source": [
    "df_patient[df_patient.address_1==\"\"]"
   ]
  },
  {
   "cell_type": "code",
   "execution_count": 387,
   "metadata": {},
   "outputs": [
    {
     "data": {
      "text/html": [
       "<div>\n",
       "<style scoped>\n",
       "    .dataframe tbody tr th:only-of-type {\n",
       "        vertical-align: middle;\n",
       "    }\n",
       "\n",
       "    .dataframe tbody tr th {\n",
       "        vertical-align: top;\n",
       "    }\n",
       "\n",
       "    .dataframe thead th {\n",
       "        text-align: right;\n",
       "    }\n",
       "</style>\n",
       "<table border=\"1\" class=\"dataframe\">\n",
       "  <thead>\n",
       "    <tr style=\"text-align: right;\">\n",
       "      <th></th>\n",
       "      <th>patient_id</th>\n",
       "      <th>given_name</th>\n",
       "      <th>surname</th>\n",
       "      <th>street_number</th>\n",
       "      <th>address_1</th>\n",
       "      <th>suburb</th>\n",
       "      <th>postcode</th>\n",
       "      <th>state</th>\n",
       "      <th>date_of_birth</th>\n",
       "      <th>age</th>\n",
       "      <th>phone_number</th>\n",
       "      <th>address_2</th>\n",
       "    </tr>\n",
       "  </thead>\n",
       "  <tbody>\n",
       "  </tbody>\n",
       "</table>\n",
       "</div>"
      ],
      "text/plain": [
       "Empty DataFrame\n",
       "Columns: [patient_id, given_name, surname, street_number, address_1, suburb, postcode, state, date_of_birth, age, phone_number, address_2]\n",
       "Index: []"
      ]
     },
     "execution_count": 387,
     "metadata": {},
     "output_type": "execute_result"
    }
   ],
   "source": [
    "df_patient[df_patient.address_2==\"\"]"
   ]
  },
  {
   "cell_type": "markdown",
   "metadata": {},
   "source": [
    "On peut en dire qu'il n'y a aucune adresse vide. Remplaçons donc les NaN par des chaînes de caractères vides."
   ]
  },
  {
   "cell_type": "code",
   "execution_count": 388,
   "metadata": {},
   "outputs": [],
   "source": [
    "df_patient.address_1.fillna(\"\", inplace=True)\n",
    "df_patient.address_1.fillna(\"\", inplace=True)"
   ]
  },
  {
   "cell_type": "code",
   "execution_count": 389,
   "metadata": {},
   "outputs": [
    {
     "data": {
      "text/plain": [
       "<matplotlib.axes._subplots.AxesSubplot at 0x1221421d0>"
      ]
     },
     "execution_count": 389,
     "metadata": {},
     "output_type": "execute_result"
    },
    {
     "data": {
      "image/png": "[encoded data removed]",
      "text/plain": [
       "<Figure size 432x288 with 1 Axes>"
      ]
     },
     "metadata": {
      "needs_background": "light"
     },
     "output_type": "display_data"
    }
   ],
   "source": [
    "sns.histplot(df_patient.address_1.apply(len))"
   ]
  },
  {
   "cell_type": "code",
   "execution_count": 390,
   "metadata": {},
   "outputs": [
    {
     "data": {
      "text/plain": [
       "781"
      ]
     },
     "execution_count": 390,
     "metadata": {},
     "output_type": "execute_result"
    }
   ],
   "source": [
    "len(df_patient[df_patient.address_1.apply(len)==0])"
   ]
  },
  {
   "cell_type": "markdown",
   "metadata": {},
   "source": [
    "Ce pic d'adresses de longueur 0 correspond bien aux adresses manquantes que nous avons remplacées par des chaînes de caractères vides. Voyons si certaines adresses sont composées de chiffres ou d'autres caractères."
   ]
  },
  {
   "cell_type": "code",
   "execution_count": 391,
   "metadata": {},
   "outputs": [
    {
     "data": {
      "text/html": [
       "<div>\n",
       "<style scoped>\n",
       "    .dataframe tbody tr th:only-of-type {\n",
       "        vertical-align: middle;\n",
       "    }\n",
       "\n",
       "    .dataframe tbody tr th {\n",
       "        vertical-align: top;\n",
       "    }\n",
       "\n",
       "    .dataframe thead th {\n",
       "        text-align: right;\n",
       "    }\n",
       "</style>\n",
       "<table border=\"1\" class=\"dataframe\">\n",
       "  <thead>\n",
       "    <tr style=\"text-align: right;\">\n",
       "      <th></th>\n",
       "      <th>patient_id</th>\n",
       "      <th>given_name</th>\n",
       "      <th>surname</th>\n",
       "      <th>street_number</th>\n",
       "      <th>address_1</th>\n",
       "      <th>suburb</th>\n",
       "      <th>postcode</th>\n",
       "      <th>state</th>\n",
       "      <th>date_of_birth</th>\n",
       "      <th>age</th>\n",
       "      <th>phone_number</th>\n",
       "      <th>address_2</th>\n",
       "    </tr>\n",
       "  </thead>\n",
       "  <tbody>\n",
       "    <tr>\n",
       "      <th>1322</th>\n",
       "      <td>313942</td>\n",
       "      <td>joe</td>\n",
       "      <td>reimef</td>\n",
       "      <td>68</td>\n",
       "      <td>home 186</td>\n",
       "      <td>windsor</td>\n",
       "      <td>7019</td>\n",
       "      <td>nsw</td>\n",
       "      <td>19581213.0</td>\n",
       "      <td>26.0</td>\n",
       "      <td>04 22861452</td>\n",
       "      <td>kiewa street</td>\n",
       "    </tr>\n",
       "    <tr>\n",
       "      <th>3763</th>\n",
       "      <td>186516</td>\n",
       "      <td>hannah</td>\n",
       "      <td>clarke</td>\n",
       "      <td>6</td>\n",
       "      <td>villa 3</td>\n",
       "      <td>brighton-le-sands</td>\n",
       "      <td>3996</td>\n",
       "      <td>qln</td>\n",
       "      <td>19730115.0</td>\n",
       "      <td>NaN</td>\n",
       "      <td>07 53595738</td>\n",
       "      <td>chandler street</td>\n",
       "    </tr>\n",
       "  </tbody>\n",
       "</table>\n",
       "</div>"
      ],
      "text/plain": [
       "      patient_id given_name surname  street_number address_1  \\\n",
       "1322      313942        joe  reimef             68  home 186   \n",
       "3763      186516     hannah  clarke              6   villa 3   \n",
       "\n",
       "                 suburb postcode state  date_of_birth   age phone_number  \\\n",
       "1322            windsor     7019   nsw     19581213.0  26.0  04 22861452   \n",
       "3763  brighton-le-sands     3996   qln     19730115.0   NaN  07 53595738   \n",
       "\n",
       "            address_2  \n",
       "1322     kiewa street  \n",
       "3763  chandler street  "
      ]
     },
     "execution_count": 391,
     "metadata": {},
     "output_type": "execute_result"
    }
   ],
   "source": [
    "def include_digit(input_str: str) -> bool:\n",
    "    return any(char.isdigit() for char in input_str)\n",
    "\n",
    "df_patient[df_patient.address_1.apply(include_digit)]"
   ]
  },
  {
   "cell_type": "markdown",
   "metadata": {},
   "source": [
    "Certaines adresses contiennent bien des numéros, mais qui semblent être des précisions d'adresse."
   ]
  },
  {
   "cell_type": "code",
   "execution_count": 392,
   "metadata": {},
   "outputs": [
    {
     "data": {
      "text/plain": [
       "0"
      ]
     },
     "execution_count": 392,
     "metadata": {},
     "output_type": "execute_result"
    }
   ],
   "source": [
    "def include_special_character(input_str: str) -> bool:\n",
    "    return (all(not(char.isalpha() or char==\" \") for char in input_str) and len(input_str)!=0)\n",
    "\n",
    "len(df_patient[df_patient.address_1.apply(include_special_character)])"
   ]
  },
  {
   "cell_type": "markdown",
   "metadata": {},
   "source": [
    "On a bien vérifié qu'il n'y avait pas de caractères spéciaux dans la colonne address_1."
   ]
  },
  {
   "cell_type": "markdown",
   "metadata": {},
   "source": [
    "## 5. suburb, postcode and state"
   ]
  },
  {
   "cell_type": "markdown",
   "metadata": {},
   "source": [
    "On commence par vérifier les données manquantes, puis on regardera s'il y a des incohérences, par exemple des codes postaux qui ne correspondent pas à l'état."
   ]
  },
  {
   "cell_type": "code",
   "execution_count": 393,
   "metadata": {},
   "outputs": [
    {
     "data": {
      "text/plain": [
       "203"
      ]
     },
     "execution_count": 393,
     "metadata": {},
     "output_type": "execute_result"
    }
   ],
   "source": [
    "len(df_patient[df_patient.suburb.isna()])"
   ]
  },
  {
   "cell_type": "code",
   "execution_count": 394,
   "metadata": {},
   "outputs": [
    {
     "data": {
      "text/plain": [
       "194"
      ]
     },
     "execution_count": 394,
     "metadata": {},
     "output_type": "execute_result"
    }
   ],
   "source": [
    "len(df_patient[df_patient.postcode.isna()])"
   ]
  },
  {
   "cell_type": "code",
   "execution_count": 395,
   "metadata": {},
   "outputs": [
    {
     "data": {
      "text/plain": [
       "1950"
      ]
     },
     "execution_count": 395,
     "metadata": {},
     "output_type": "execute_result"
    }
   ],
   "source": [
    "len(df_patient[df_patient.state.isna()])"
   ]
  },
  {
   "cell_type": "code",
   "execution_count": 396,
   "metadata": {},
   "outputs": [
    {
     "data": {
      "text/plain": [
       "102"
      ]
     },
     "execution_count": 396,
     "metadata": {},
     "output_type": "execute_result"
    }
   ],
   "source": [
    "len(df_patient.state.unique())"
   ]
  },
  {
   "cell_type": "markdown",
   "metadata": {},
   "source": [
    "Il y a 6 états en Australie d'après Wikipédia (https://fr.wikipedia.org/wiki/États_et_territoires_de_l%27Australie), (sa, wa, nsw, qld, tas et vic), et 3 territoires intérieurs (nt, act, jbt). Cependant il y a 102 valeurs différentes pour les états dans la bdd, il doit y avoir des erreurs. Récupérons les 9 valeurs de la colonne state qui reviennent le plus souvent."
   ]
  },
  {
   "cell_type": "code",
   "execution_count": 397,
   "metadata": {},
   "outputs": [
    {
     "data": {
      "text/plain": [
       "state\n",
       "nsw    6030\n",
       "vic    4246\n",
       "qld    3456\n",
       "wa     1553\n",
       "sa     1362\n",
       "tas     495\n",
       "act     242\n",
       "nt      127\n",
       "nss       7\n",
       "dtype: int64"
      ]
     },
     "execution_count": 397,
     "metadata": {},
     "output_type": "execute_result"
    }
   ],
   "source": [
    "df_patient.groupby(\"state\").size().sort_values(ascending=False).head(9)"
   ]
  },
  {
   "cell_type": "markdown",
   "metadata": {},
   "source": [
    "On récupère bel et bien les différents états donnés par cette source externe, cependant le territoires jbt ne semble pas (ou peu) apparaître. Regardons combien il y a de lignes avec un état différent de ces 9 états et territoires."
   ]
  },
  {
   "cell_type": "code",
   "execution_count": 398,
   "metadata": {},
   "outputs": [
    {
     "data": {
      "text/plain": [
       "136"
      ]
     },
     "execution_count": 398,
     "metadata": {},
     "output_type": "execute_result"
    }
   ],
   "source": [
    "states_territories = [\"nsw\", \"vic\", \"qld\", \"wa\", \"sa\", \"tas\", \"act\", \"nt\"]\n",
    "len(df_patient[~(df_patient.state.isin(states_territories) | df_patient.state.isna())])"
   ]
  },
  {
   "cell_type": "markdown",
   "metadata": {},
   "source": [
    "Il y a au moins deux façons de corriger ces valeurs, 1. en faisant un matching avec les valeurs qui existent réellement, et 2. en comparant avec le code postal et la valeur de suburb. On choisit la première méthode, en faisant un matching entre chaque entrée non conforme et son voisin le plus proche dans les 9 valeurs que nous connaissons comme vraies (avec une base de données regroupant code postal et état, nous pourrions remplir et les états mal orthographiés, et les états manquants (si le code postal est présent).\n"
   ]
  },
  {
   "cell_type": "code",
   "execution_count": 399,
   "metadata": {},
   "outputs": [
    {
     "data": {
      "text/html": [
       "<div>\n",
       "<style scoped>\n",
       "    .dataframe tbody tr th:only-of-type {\n",
       "        vertical-align: middle;\n",
       "    }\n",
       "\n",
       "    .dataframe tbody tr th {\n",
       "        vertical-align: top;\n",
       "    }\n",
       "\n",
       "    .dataframe thead th {\n",
       "        text-align: right;\n",
       "    }\n",
       "</style>\n",
       "<table border=\"1\" class=\"dataframe\">\n",
       "  <thead>\n",
       "    <tr style=\"text-align: right;\">\n",
       "      <th></th>\n",
       "      <th>patient_id</th>\n",
       "      <th>given_name</th>\n",
       "      <th>surname</th>\n",
       "      <th>street_number</th>\n",
       "      <th>address_1</th>\n",
       "      <th>suburb</th>\n",
       "      <th>postcode</th>\n",
       "      <th>state</th>\n",
       "      <th>date_of_birth</th>\n",
       "      <th>age</th>\n",
       "      <th>phone_number</th>\n",
       "      <th>address_2</th>\n",
       "      <th>state_corrected</th>\n",
       "    </tr>\n",
       "  </thead>\n",
       "  <tbody>\n",
       "    <tr>\n",
       "      <th>301</th>\n",
       "      <td>577095</td>\n",
       "      <td>joshua</td>\n",
       "      <td>bellamly</td>\n",
       "      <td>41</td>\n",
       "      <td>namatjiracdrive</td>\n",
       "      <td>clayfield</td>\n",
       "      <td>4574</td>\n",
       "      <td>vc</td>\n",
       "      <td>19631211.0</td>\n",
       "      <td>10.0</td>\n",
       "      <td>03 61524567</td>\n",
       "      <td>None</td>\n",
       "      <td>vic</td>\n",
       "    </tr>\n",
       "    <tr>\n",
       "      <th>364</th>\n",
       "      <td>412252</td>\n",
       "      <td>jettie</td>\n",
       "      <td>dixon</td>\n",
       "      <td>9</td>\n",
       "      <td></td>\n",
       "      <td>cooranbong</td>\n",
       "      <td>2795</td>\n",
       "      <td>qkd</td>\n",
       "      <td>19090316.0</td>\n",
       "      <td>31.0</td>\n",
       "      <td>None</td>\n",
       "      <td>None</td>\n",
       "      <td>qld</td>\n",
       "    </tr>\n",
       "    <tr>\n",
       "      <th>377</th>\n",
       "      <td>956703</td>\n",
       "      <td>amelia</td>\n",
       "      <td>webb</td>\n",
       "      <td>6</td>\n",
       "      <td>oxley street</td>\n",
       "      <td>thornbury</td>\n",
       "      <td>2350</td>\n",
       "      <td>s</td>\n",
       "      <td>19900717.0</td>\n",
       "      <td>40.0</td>\n",
       "      <td>08 65367239</td>\n",
       "      <td>None</td>\n",
       "      <td>sa</td>\n",
       "    </tr>\n",
       "    <tr>\n",
       "      <th>407</th>\n",
       "      <td>730271</td>\n",
       "      <td>jessica</td>\n",
       "      <td>browne</td>\n",
       "      <td>1</td>\n",
       "      <td>archdall street</td>\n",
       "      <td>round corner</td>\n",
       "      <td>5333</td>\n",
       "      <td>qlh</td>\n",
       "      <td>19750207.0</td>\n",
       "      <td>NaN</td>\n",
       "      <td>02 79191395</td>\n",
       "      <td>None</td>\n",
       "      <td>qld</td>\n",
       "    </tr>\n",
       "    <tr>\n",
       "      <th>791</th>\n",
       "      <td>186188</td>\n",
       "      <td>emiil</td>\n",
       "      <td>white</td>\n",
       "      <td>23</td>\n",
       "      <td>poynton street</td>\n",
       "      <td>ardeer</td>\n",
       "      <td>5118</td>\n",
       "      <td>ndw</td>\n",
       "      <td>19091110.0</td>\n",
       "      <td>7.0</td>\n",
       "      <td>07 37600084</td>\n",
       "      <td>brentwood vlge</td>\n",
       "      <td>nsw</td>\n",
       "    </tr>\n",
       "  </tbody>\n",
       "</table>\n",
       "</div>"
      ],
      "text/plain": [
       "     patient_id given_name   surname  street_number        address_1  \\\n",
       "301      577095     joshua  bellamly             41  namatjiracdrive   \n",
       "364      412252     jettie     dixon              9                    \n",
       "377      956703     amelia      webb              6     oxley street   \n",
       "407      730271    jessica    browne              1  archdall street   \n",
       "791      186188      emiil     white             23   poynton street   \n",
       "\n",
       "           suburb postcode state  date_of_birth   age phone_number  \\\n",
       "301     clayfield     4574    vc     19631211.0  10.0  03 61524567   \n",
       "364    cooranbong     2795   qkd     19090316.0  31.0         None   \n",
       "377     thornbury     2350     s     19900717.0  40.0  08 65367239   \n",
       "407  round corner     5333   qlh     19750207.0   NaN  02 79191395   \n",
       "791        ardeer     5118   ndw     19091110.0   7.0  07 37600084   \n",
       "\n",
       "          address_2 state_corrected  \n",
       "301            None             vic  \n",
       "364            None             qld  \n",
       "377            None              sa  \n",
       "407            None             qld  \n",
       "791  brentwood vlge             nsw  "
      ]
     },
     "execution_count": 399,
     "metadata": {},
     "output_type": "execute_result"
    }
   ],
   "source": [
    "# function allowing for the package python-Levenshtein not to be necessary \n",
    "# for likeness computation between two strings\n",
    "\n",
    "def better_scorer(s1: str, s2: str) -> int:\n",
    "    fuzz_ratio = fuzz.ratio(s1, s2)\n",
    "    fuzz_ratio -= (s2.find(s1)*5)\n",
    "    return fuzz_ratio\n",
    "\n",
    "def correct_state(state_input: str, states_territories: list = states_territories) -> str:\n",
    "    if state_input is None:\n",
    "        return \"\"\n",
    "    return(process.extractOne(state_input, states_territories, scorer=better_scorer)[0])\n",
    "    \n",
    "    \n",
    "df_patient[\"state_corrected\"] = df_patient.apply(lambda row: correct_state(row.state), axis = 1)\n",
    "\n",
    "df_patient[(df_patient.state != df_patient.state_corrected) & (~df_patient.state.isna())].head(5)\n",
    "\n"
   ]
  },
  {
   "cell_type": "markdown",
   "metadata": {},
   "source": [
    "\n",
    "Il serait intéressant de corriger ces valeurs grâce au code postal donné. Il y a toujours une possibilité que le code postal soit lui aussi faux, mais on peut le supposer vrai pour les données manquantes, et vérifier la cohérence pour les données présentes. Mes connaissances en géographie australienne s'arrêtant là, il serait nécessaire d'intégrer une nouvelle base de données à notre projet, celle des (suburbs, postcodes et states) d'Australie."
   ]
  },
  {
   "cell_type": "code",
   "execution_count": 400,
   "metadata": {},
   "outputs": [
    {
     "data": {
      "text/html": [
       "<div>\n",
       "<style scoped>\n",
       "    .dataframe tbody tr th:only-of-type {\n",
       "        vertical-align: middle;\n",
       "    }\n",
       "\n",
       "    .dataframe tbody tr th {\n",
       "        vertical-align: top;\n",
       "    }\n",
       "\n",
       "    .dataframe thead th {\n",
       "        text-align: right;\n",
       "    }\n",
       "</style>\n",
       "<table border=\"1\" class=\"dataframe\">\n",
       "  <thead>\n",
       "    <tr style=\"text-align: right;\">\n",
       "      <th></th>\n",
       "      <th>patient_id</th>\n",
       "      <th>given_name</th>\n",
       "      <th>surname</th>\n",
       "      <th>street_number</th>\n",
       "      <th>address_1</th>\n",
       "      <th>suburb</th>\n",
       "      <th>postcode</th>\n",
       "      <th>state</th>\n",
       "      <th>date_of_birth</th>\n",
       "      <th>age</th>\n",
       "      <th>phone_number</th>\n",
       "      <th>address_2</th>\n",
       "      <th>state_corrected</th>\n",
       "    </tr>\n",
       "  </thead>\n",
       "  <tbody>\n",
       "    <tr>\n",
       "      <th>214</th>\n",
       "      <td>237848</td>\n",
       "      <td>amaya</td>\n",
       "      <td>clisby</td>\n",
       "      <td>175</td>\n",
       "      <td>rutherford crescent</td>\n",
       "      <td>downer</td>\n",
       "      <td>None</td>\n",
       "      <td>None</td>\n",
       "      <td>19531215.0</td>\n",
       "      <td>8.0</td>\n",
       "      <td>07 19639912</td>\n",
       "      <td>boxwood hill</td>\n",
       "      <td></td>\n",
       "    </tr>\n",
       "    <tr>\n",
       "      <th>859</th>\n",
       "      <td>109337</td>\n",
       "      <td>gianni</td>\n",
       "      <td>papageorgiou</td>\n",
       "      <td>20</td>\n",
       "      <td>hobbs street</td>\n",
       "      <td>wagaman</td>\n",
       "      <td>None</td>\n",
       "      <td>None</td>\n",
       "      <td>19211005.0</td>\n",
       "      <td>12.0</td>\n",
       "      <td>03 98411510</td>\n",
       "      <td>brambletye vinyard</td>\n",
       "      <td></td>\n",
       "    </tr>\n",
       "    <tr>\n",
       "      <th>2809</th>\n",
       "      <td>367926</td>\n",
       "      <td>dylan</td>\n",
       "      <td>drysdale</td>\n",
       "      <td>4</td>\n",
       "      <td>fawkner street</td>\n",
       "      <td>kings cross</td>\n",
       "      <td>None</td>\n",
       "      <td>None</td>\n",
       "      <td>19391203.0</td>\n",
       "      <td>28.0</td>\n",
       "      <td>02 23269087</td>\n",
       "      <td>dickson family practice</td>\n",
       "      <td></td>\n",
       "    </tr>\n",
       "    <tr>\n",
       "      <th>6716</th>\n",
       "      <td>988698</td>\n",
       "      <td>bailey</td>\n",
       "      <td>vincent</td>\n",
       "      <td>16</td>\n",
       "      <td>wylly place</td>\n",
       "      <td>lake illawarra</td>\n",
       "      <td>None</td>\n",
       "      <td>None</td>\n",
       "      <td>19451103.0</td>\n",
       "      <td>31.0</td>\n",
       "      <td>07 81676543</td>\n",
       "      <td>riverland village</td>\n",
       "      <td></td>\n",
       "    </tr>\n",
       "    <tr>\n",
       "      <th>7917</th>\n",
       "      <td>345282</td>\n",
       "      <td>isobel</td>\n",
       "      <td>white</td>\n",
       "      <td>12</td>\n",
       "      <td>mckinley circuit</td>\n",
       "      <td>elwood</td>\n",
       "      <td>None</td>\n",
       "      <td>None</td>\n",
       "      <td>19170406.0</td>\n",
       "      <td>NaN</td>\n",
       "      <td>07 13732931</td>\n",
       "      <td>brentwood vlge</td>\n",
       "      <td></td>\n",
       "    </tr>\n",
       "    <tr>\n",
       "      <th>8885</th>\n",
       "      <td>816825</td>\n",
       "      <td>jack</td>\n",
       "      <td>lissner</td>\n",
       "      <td>40</td>\n",
       "      <td>luehmann street</td>\n",
       "      <td>greenacre</td>\n",
       "      <td>None</td>\n",
       "      <td>None</td>\n",
       "      <td>19950323.0</td>\n",
       "      <td>39.0</td>\n",
       "      <td>07 42474648</td>\n",
       "      <td>None</td>\n",
       "      <td></td>\n",
       "    </tr>\n",
       "    <tr>\n",
       "      <th>11021</th>\n",
       "      <td>847097</td>\n",
       "      <td>brendan</td>\n",
       "      <td>mccaffrey</td>\n",
       "      <td>29</td>\n",
       "      <td>adamson crescent</td>\n",
       "      <td>salisbury</td>\n",
       "      <td>None</td>\n",
       "      <td>None</td>\n",
       "      <td>NaN</td>\n",
       "      <td>NaN</td>\n",
       "      <td>None</td>\n",
       "      <td>None</td>\n",
       "      <td></td>\n",
       "    </tr>\n",
       "    <tr>\n",
       "      <th>11419</th>\n",
       "      <td>487902</td>\n",
       "      <td>stephanie</td>\n",
       "      <td>kusnezow</td>\n",
       "      <td>12</td>\n",
       "      <td>murchison street</td>\n",
       "      <td>northmead</td>\n",
       "      <td>None</td>\n",
       "      <td>None</td>\n",
       "      <td>19890630.0</td>\n",
       "      <td>27.0</td>\n",
       "      <td>04 79036574</td>\n",
       "      <td>dandarriga</td>\n",
       "      <td></td>\n",
       "    </tr>\n",
       "    <tr>\n",
       "      <th>11997</th>\n",
       "      <td>248395</td>\n",
       "      <td>georgia</td>\n",
       "      <td>beal</td>\n",
       "      <td>23</td>\n",
       "      <td>clements street</td>\n",
       "      <td>yarrawonga</td>\n",
       "      <td>None</td>\n",
       "      <td>None</td>\n",
       "      <td>19760421.0</td>\n",
       "      <td>42.0</td>\n",
       "      <td>08 24303408</td>\n",
       "      <td>None</td>\n",
       "      <td></td>\n",
       "    </tr>\n",
       "    <tr>\n",
       "      <th>12877</th>\n",
       "      <td>379302</td>\n",
       "      <td>fiona</td>\n",
       "      <td>swayne</td>\n",
       "      <td>25</td>\n",
       "      <td>currie crescent</td>\n",
       "      <td>lower templestowe</td>\n",
       "      <td>None</td>\n",
       "      <td>None</td>\n",
       "      <td>19421013.0</td>\n",
       "      <td>26.0</td>\n",
       "      <td>03 52918979</td>\n",
       "      <td>None</td>\n",
       "      <td></td>\n",
       "    </tr>\n",
       "    <tr>\n",
       "      <th>13864</th>\n",
       "      <td>995503</td>\n",
       "      <td>michael</td>\n",
       "      <td>coleman</td>\n",
       "      <td>33</td>\n",
       "      <td>heaton place</td>\n",
       "      <td>winston hills</td>\n",
       "      <td>None</td>\n",
       "      <td>None</td>\n",
       "      <td>19700618.0</td>\n",
       "      <td>29.0</td>\n",
       "      <td>08 38828299</td>\n",
       "      <td>tweed heritage car</td>\n",
       "      <td></td>\n",
       "    </tr>\n",
       "    <tr>\n",
       "      <th>15078</th>\n",
       "      <td>310154</td>\n",
       "      <td>joshua</td>\n",
       "      <td>miezitis</td>\n",
       "      <td>11</td>\n",
       "      <td>simson place</td>\n",
       "      <td>morven</td>\n",
       "      <td>None</td>\n",
       "      <td>None</td>\n",
       "      <td>NaN</td>\n",
       "      <td>22.0</td>\n",
       "      <td>03 55549920</td>\n",
       "      <td>None</td>\n",
       "      <td></td>\n",
       "    </tr>\n",
       "    <tr>\n",
       "      <th>17474</th>\n",
       "      <td>546015</td>\n",
       "      <td>zali</td>\n",
       "      <td>david</td>\n",
       "      <td>47</td>\n",
       "      <td>monkman street</td>\n",
       "      <td>dapto</td>\n",
       "      <td>None</td>\n",
       "      <td>None</td>\n",
       "      <td>19160822.0</td>\n",
       "      <td>30.0</td>\n",
       "      <td>08 28962939</td>\n",
       "      <td>the meadows</td>\n",
       "      <td></td>\n",
       "    </tr>\n",
       "    <tr>\n",
       "      <th>17999</th>\n",
       "      <td>567453</td>\n",
       "      <td>None</td>\n",
       "      <td>neville</td>\n",
       "      <td>89</td>\n",
       "      <td>bellchambers crescent</td>\n",
       "      <td>alexandra bridge</td>\n",
       "      <td>None</td>\n",
       "      <td>None</td>\n",
       "      <td>NaN</td>\n",
       "      <td>NaN</td>\n",
       "      <td>03 59695003</td>\n",
       "      <td>prospect creek</td>\n",
       "      <td></td>\n",
       "    </tr>\n",
       "    <tr>\n",
       "      <th>19570</th>\n",
       "      <td>149607</td>\n",
       "      <td>lachlan</td>\n",
       "      <td>matthews</td>\n",
       "      <td>30</td>\n",
       "      <td>van raalte place</td>\n",
       "      <td>casino</td>\n",
       "      <td>None</td>\n",
       "      <td>None</td>\n",
       "      <td>19510103.0</td>\n",
       "      <td>NaN</td>\n",
       "      <td>07 82179627</td>\n",
       "      <td>None</td>\n",
       "      <td></td>\n",
       "    </tr>\n",
       "    <tr>\n",
       "      <th>19823</th>\n",
       "      <td>564133</td>\n",
       "      <td>benjamin</td>\n",
       "      <td>webb</td>\n",
       "      <td>3</td>\n",
       "      <td>parker street</td>\n",
       "      <td>ngunnawal</td>\n",
       "      <td>None</td>\n",
       "      <td>None</td>\n",
       "      <td>19040401.0</td>\n",
       "      <td>NaN</td>\n",
       "      <td>08 52779492</td>\n",
       "      <td>None</td>\n",
       "      <td></td>\n",
       "    </tr>\n",
       "  </tbody>\n",
       "</table>\n",
       "</div>"
      ],
      "text/plain": [
       "       patient_id given_name       surname  street_number  \\\n",
       "214        237848      amaya        clisby            175   \n",
       "859        109337     gianni  papageorgiou             20   \n",
       "2809       367926      dylan      drysdale              4   \n",
       "6716       988698     bailey       vincent             16   \n",
       "7917       345282     isobel         white             12   \n",
       "8885       816825       jack       lissner             40   \n",
       "11021      847097    brendan     mccaffrey             29   \n",
       "11419      487902  stephanie      kusnezow             12   \n",
       "11997      248395    georgia          beal             23   \n",
       "12877      379302      fiona        swayne             25   \n",
       "13864      995503    michael       coleman             33   \n",
       "15078      310154     joshua      miezitis             11   \n",
       "17474      546015       zali         david             47   \n",
       "17999      567453       None       neville             89   \n",
       "19570      149607    lachlan      matthews             30   \n",
       "19823      564133   benjamin          webb              3   \n",
       "\n",
       "                   address_1             suburb postcode state  date_of_birth  \\\n",
       "214      rutherford crescent             downer     None  None     19531215.0   \n",
       "859             hobbs street            wagaman     None  None     19211005.0   \n",
       "2809          fawkner street        kings cross     None  None     19391203.0   \n",
       "6716             wylly place     lake illawarra     None  None     19451103.0   \n",
       "7917        mckinley circuit             elwood     None  None     19170406.0   \n",
       "8885         luehmann street          greenacre     None  None     19950323.0   \n",
       "11021       adamson crescent          salisbury     None  None            NaN   \n",
       "11419       murchison street          northmead     None  None     19890630.0   \n",
       "11997        clements street         yarrawonga     None  None     19760421.0   \n",
       "12877        currie crescent  lower templestowe     None  None     19421013.0   \n",
       "13864           heaton place      winston hills     None  None     19700618.0   \n",
       "15078           simson place             morven     None  None            NaN   \n",
       "17474         monkman street              dapto     None  None     19160822.0   \n",
       "17999  bellchambers crescent   alexandra bridge     None  None            NaN   \n",
       "19570       van raalte place             casino     None  None     19510103.0   \n",
       "19823          parker street          ngunnawal     None  None     19040401.0   \n",
       "\n",
       "        age phone_number                address_2 state_corrected  \n",
       "214     8.0  07 19639912             boxwood hill                  \n",
       "859    12.0  03 98411510       brambletye vinyard                  \n",
       "2809   28.0  02 23269087  dickson family practice                  \n",
       "6716   31.0  07 81676543        riverland village                  \n",
       "7917    NaN  07 13732931           brentwood vlge                  \n",
       "8885   39.0  07 42474648                     None                  \n",
       "11021   NaN         None                     None                  \n",
       "11419  27.0  04 79036574               dandarriga                  \n",
       "11997  42.0  08 24303408                     None                  \n",
       "12877  26.0  03 52918979                     None                  \n",
       "13864  29.0  08 38828299       tweed heritage car                  \n",
       "15078  22.0  03 55549920                     None                  \n",
       "17474  30.0  08 28962939              the meadows                  \n",
       "17999   NaN  03 59695003           prospect creek                  \n",
       "19570   NaN  07 82179627                     None                  \n",
       "19823   NaN  08 52779492                     None                  "
      ]
     },
     "execution_count": 400,
     "metadata": {},
     "output_type": "execute_result"
    }
   ],
   "source": [
    "df_patient[(df_patient.state.isna()) & (df_patient.postcode.isna())]"
   ]
  },
  {
   "cell_type": "markdown",
   "metadata": {},
   "source": [
    "Cette information (état) resterait indisponible pour les lignes ci-dessus."
   ]
  },
  {
   "cell_type": "markdown",
   "metadata": {},
   "source": [
    "## 6. date_of_birth and age"
   ]
  },
  {
   "cell_type": "markdown",
   "metadata": {},
   "source": [
    "First, let's change the type of date_of_birth to an actual date."
   ]
  },
  {
   "cell_type": "code",
   "execution_count": 401,
   "metadata": {},
   "outputs": [
    {
     "name": "stdout",
     "output_type": "stream",
     "text": [
      "174\n"
     ]
    }
   ],
   "source": [
    "df_patient[\"dob_date\"] = df_patient.apply(lambda row: str(row.date_of_birth)[:-2] if not math.isnan(row.date_of_birth) else \"\", axis=1)\n",
    "\n",
    "# function to convert a string into date format\n",
    "def to_valid_date(input_str: str, format: str=\"%Y%m%d\"):\n",
    "    try:\n",
    "        return(pd.to_datetime(input_str, format=\"%Y%m%d\"))\n",
    "    except ValueError:\n",
    "        return(None)\n",
    "    \n",
    "df_patient[\"dob_date\"] = df_patient.apply(lambda row: to_valid_date(row.dob_date) if len(row.dob_date)!=0 else None, axis=1)\n",
    "\n",
    "print(len(df_patient[(df_patient.date_of_birth.notna()) & (df_patient.dob_date.isna())]))\n",
    "\n"
   ]
  },
  {
   "cell_type": "markdown",
   "metadata": {},
   "source": [
    "Il y a 174 dates de naissance dont la valeur est invalide, en dehors des dates non renseignées (mois ou jour inexistant, jour inexistant dans le mois donné, etc)."
   ]
  },
  {
   "cell_type": "code",
   "execution_count": 402,
   "metadata": {},
   "outputs": [
    {
     "data": {
      "text/html": [
       "<div>\n",
       "<style scoped>\n",
       "    .dataframe tbody tr th:only-of-type {\n",
       "        vertical-align: middle;\n",
       "    }\n",
       "\n",
       "    .dataframe tbody tr th {\n",
       "        vertical-align: top;\n",
       "    }\n",
       "\n",
       "    .dataframe thead th {\n",
       "        text-align: right;\n",
       "    }\n",
       "</style>\n",
       "<table border=\"1\" class=\"dataframe\">\n",
       "  <thead>\n",
       "    <tr style=\"text-align: right;\">\n",
       "      <th></th>\n",
       "      <th>patient_id</th>\n",
       "      <th>given_name</th>\n",
       "      <th>surname</th>\n",
       "      <th>street_number</th>\n",
       "      <th>address_1</th>\n",
       "      <th>suburb</th>\n",
       "      <th>postcode</th>\n",
       "      <th>state</th>\n",
       "      <th>date_of_birth</th>\n",
       "      <th>age</th>\n",
       "      <th>phone_number</th>\n",
       "      <th>address_2</th>\n",
       "      <th>state_corrected</th>\n",
       "      <th>dob_date</th>\n",
       "      <th>test_year</th>\n",
       "    </tr>\n",
       "  </thead>\n",
       "  <tbody>\n",
       "    <tr>\n",
       "      <th>15</th>\n",
       "      <td>378167</td>\n",
       "      <td>cain</td>\n",
       "      <td>scarles</td>\n",
       "      <td>58</td>\n",
       "      <td>reader court</td>\n",
       "      <td>dorrigo</td>\n",
       "      <td>2428</td>\n",
       "      <td>qld</td>\n",
       "      <td>NaN</td>\n",
       "      <td>31.0</td>\n",
       "      <td>03 67476384</td>\n",
       "      <td>jorobe</td>\n",
       "      <td>qld</td>\n",
       "      <td>NaT</td>\n",
       "      <td>NaN</td>\n",
       "    </tr>\n",
       "    <tr>\n",
       "      <th>17</th>\n",
       "      <td>429365</td>\n",
       "      <td>None</td>\n",
       "      <td>coffey</td>\n",
       "      <td>1409</td>\n",
       "      <td>musson close</td>\n",
       "      <td>beaconsfield upper</td>\n",
       "      <td>5019</td>\n",
       "      <td>wa</td>\n",
       "      <td>NaN</td>\n",
       "      <td>30.0</td>\n",
       "      <td>03 13369308</td>\n",
       "      <td>silverweir</td>\n",
       "      <td>wa</td>\n",
       "      <td>NaT</td>\n",
       "      <td>NaN</td>\n",
       "    </tr>\n",
       "    <tr>\n",
       "      <th>29</th>\n",
       "      <td>284779</td>\n",
       "      <td>alexandra</td>\n",
       "      <td>miles</td>\n",
       "      <td>23</td>\n",
       "      <td>duffy street</td>\n",
       "      <td>christies beach</td>\n",
       "      <td>2047</td>\n",
       "      <td>nsw</td>\n",
       "      <td>NaN</td>\n",
       "      <td>29.0</td>\n",
       "      <td>02 24131074</td>\n",
       "      <td>riverland village</td>\n",
       "      <td>nsw</td>\n",
       "      <td>NaT</td>\n",
       "      <td>NaN</td>\n",
       "    </tr>\n",
       "    <tr>\n",
       "      <th>34</th>\n",
       "      <td>600186</td>\n",
       "      <td>zachary</td>\n",
       "      <td>stancliffe</td>\n",
       "      <td>40</td>\n",
       "      <td>macgregor street</td>\n",
       "      <td>coodanup</td>\n",
       "      <td>6027</td>\n",
       "      <td>nsw</td>\n",
       "      <td>NaN</td>\n",
       "      <td>29.0</td>\n",
       "      <td>03 67952046</td>\n",
       "      <td>woodsong</td>\n",
       "      <td>nsw</td>\n",
       "      <td>NaT</td>\n",
       "      <td>NaN</td>\n",
       "    </tr>\n",
       "    <tr>\n",
       "      <th>40</th>\n",
       "      <td>627035</td>\n",
       "      <td>ellorah</td>\n",
       "      <td>parr</td>\n",
       "      <td>12</td>\n",
       "      <td>bosworth circuit</td>\n",
       "      <td>ardeer</td>\n",
       "      <td>3523</td>\n",
       "      <td>sa</td>\n",
       "      <td>19030539.0</td>\n",
       "      <td>36.0</td>\n",
       "      <td>08 40688028</td>\n",
       "      <td>killune</td>\n",
       "      <td>sa</td>\n",
       "      <td>NaT</td>\n",
       "      <td>NaN</td>\n",
       "    </tr>\n",
       "    <tr>\n",
       "      <th>...</th>\n",
       "      <td>...</td>\n",
       "      <td>...</td>\n",
       "      <td>...</td>\n",
       "      <td>...</td>\n",
       "      <td>...</td>\n",
       "      <td>...</td>\n",
       "      <td>...</td>\n",
       "      <td>...</td>\n",
       "      <td>...</td>\n",
       "      <td>...</td>\n",
       "      <td>...</td>\n",
       "      <td>...</td>\n",
       "      <td>...</td>\n",
       "      <td>...</td>\n",
       "      <td>...</td>\n",
       "    </tr>\n",
       "    <tr>\n",
       "      <th>19968</th>\n",
       "      <td>902251</td>\n",
       "      <td>caleb</td>\n",
       "      <td>richmond</td>\n",
       "      <td>4</td>\n",
       "      <td>philp place</td>\n",
       "      <td>elimbah</td>\n",
       "      <td>4873</td>\n",
       "      <td>vic</td>\n",
       "      <td>NaN</td>\n",
       "      <td>NaN</td>\n",
       "      <td>03 73275720</td>\n",
       "      <td>None</td>\n",
       "      <td>vic</td>\n",
       "      <td>NaT</td>\n",
       "      <td>NaN</td>\n",
       "    </tr>\n",
       "    <tr>\n",
       "      <th>19975</th>\n",
       "      <td>752160</td>\n",
       "      <td>ashleigh</td>\n",
       "      <td>None</td>\n",
       "      <td>30</td>\n",
       "      <td>winser crescent</td>\n",
       "      <td>buff point</td>\n",
       "      <td>4806</td>\n",
       "      <td>wa</td>\n",
       "      <td>NaN</td>\n",
       "      <td>36.0</td>\n",
       "      <td>04 10236954</td>\n",
       "      <td>glennhill</td>\n",
       "      <td>wa</td>\n",
       "      <td>NaT</td>\n",
       "      <td>NaN</td>\n",
       "    </tr>\n",
       "    <tr>\n",
       "      <th>19984</th>\n",
       "      <td>134889</td>\n",
       "      <td>xavier</td>\n",
       "      <td>priest</td>\n",
       "      <td>28</td>\n",
       "      <td>needham place</td>\n",
       "      <td>reynella</td>\n",
       "      <td>3318</td>\n",
       "      <td>nsw</td>\n",
       "      <td>NaN</td>\n",
       "      <td>NaN</td>\n",
       "      <td>02 74580410</td>\n",
       "      <td>None</td>\n",
       "      <td>nsw</td>\n",
       "      <td>NaT</td>\n",
       "      <td>NaN</td>\n",
       "    </tr>\n",
       "    <tr>\n",
       "      <th>19994</th>\n",
       "      <td>912344</td>\n",
       "      <td>fraser</td>\n",
       "      <td>mcneill</td>\n",
       "      <td>10</td>\n",
       "      <td>collie street</td>\n",
       "      <td>booragul</td>\n",
       "      <td>2075</td>\n",
       "      <td>qld</td>\n",
       "      <td>NaN</td>\n",
       "      <td>31.0</td>\n",
       "      <td>02 77020191</td>\n",
       "      <td>None</td>\n",
       "      <td>qld</td>\n",
       "      <td>NaT</td>\n",
       "      <td>NaN</td>\n",
       "    </tr>\n",
       "    <tr>\n",
       "      <th>19997</th>\n",
       "      <td>511885</td>\n",
       "      <td>alessia</td>\n",
       "      <td>mawlai</td>\n",
       "      <td>4</td>\n",
       "      <td>miller street</td>\n",
       "      <td>smithfield</td>\n",
       "      <td>3616</td>\n",
       "      <td>tas</td>\n",
       "      <td>NaN</td>\n",
       "      <td>26.0</td>\n",
       "      <td>03 83466737</td>\n",
       "      <td>None</td>\n",
       "      <td>tas</td>\n",
       "      <td>NaT</td>\n",
       "      <td>NaN</td>\n",
       "    </tr>\n",
       "  </tbody>\n",
       "</table>\n",
       "<p>2149 rows × 15 columns</p>\n",
       "</div>"
      ],
      "text/plain": [
       "       patient_id given_name     surname  street_number         address_1  \\\n",
       "15         378167       cain     scarles             58      reader court   \n",
       "17         429365       None      coffey           1409      musson close   \n",
       "29         284779  alexandra       miles             23      duffy street   \n",
       "34         600186    zachary  stancliffe             40  macgregor street   \n",
       "40         627035    ellorah        parr             12  bosworth circuit   \n",
       "...           ...        ...         ...            ...               ...   \n",
       "19968      902251      caleb    richmond              4       philp place   \n",
       "19975      752160   ashleigh        None             30   winser crescent   \n",
       "19984      134889     xavier      priest             28     needham place   \n",
       "19994      912344     fraser     mcneill             10     collie street   \n",
       "19997      511885    alessia      mawlai              4     miller street   \n",
       "\n",
       "                   suburb postcode state  date_of_birth   age phone_number  \\\n",
       "15                dorrigo     2428   qld            NaN  31.0  03 67476384   \n",
       "17     beaconsfield upper     5019    wa            NaN  30.0  03 13369308   \n",
       "29        christies beach     2047   nsw            NaN  29.0  02 24131074   \n",
       "34               coodanup     6027   nsw            NaN  29.0  03 67952046   \n",
       "40                 ardeer     3523    sa     19030539.0  36.0  08 40688028   \n",
       "...                   ...      ...   ...            ...   ...          ...   \n",
       "19968             elimbah     4873   vic            NaN   NaN  03 73275720   \n",
       "19975          buff point     4806    wa            NaN  36.0  04 10236954   \n",
       "19984            reynella     3318   nsw            NaN   NaN  02 74580410   \n",
       "19994            booragul     2075   qld            NaN  31.0  02 77020191   \n",
       "19997          smithfield     3616   tas            NaN  26.0  03 83466737   \n",
       "\n",
       "               address_2 state_corrected dob_date  test_year  \n",
       "15                jorobe             qld      NaT        NaN  \n",
       "17            silverweir              wa      NaT        NaN  \n",
       "29     riverland village             nsw      NaT        NaN  \n",
       "34              woodsong             nsw      NaT        NaN  \n",
       "40               killune              sa      NaT        NaN  \n",
       "...                  ...             ...      ...        ...  \n",
       "19968               None             vic      NaT        NaN  \n",
       "19975          glennhill              wa      NaT        NaN  \n",
       "19984               None             nsw      NaT        NaN  \n",
       "19994               None             qld      NaT        NaN  \n",
       "19997               None             tas      NaT        NaN  \n",
       "\n",
       "[2149 rows x 15 columns]"
      ]
     },
     "execution_count": 402,
     "metadata": {},
     "output_type": "execute_result"
    }
   ],
   "source": [
    "from dateutil.relativedelta import relativedelta\n",
    "df_patient[\"test_year\"] = df_patient.apply(lambda row: row.dob_date.year + row.age, axis=1)\n",
    "\n",
    "df_patient[df_patient.dob_date.isna()]"
   ]
  },
  {
   "cell_type": "code",
   "execution_count": 403,
   "metadata": {},
   "outputs": [
    {
     "data": {
      "text/plain": [
       "<matplotlib.axes._subplots.AxesSubplot at 0x12275c2e8>"
      ]
     },
     "execution_count": 403,
     "metadata": {},
     "output_type": "execute_result"
    },
    {
     "data": {
      "image/png": "[encoded data removed]",
      "text/plain": [
       "<Figure size 432x288 with 1 Axes>"
      ]
     },
     "metadata": {
      "needs_background": "light"
     },
     "output_type": "display_data"
    }
   ],
   "source": [
    "sns.histplot(data=df_patient, x=\"test_year\")"
   ]
  },
  {
   "cell_type": "markdown",
   "metadata": {},
   "source": [
    "On voit qu'en additionnant les années de naissance avec l'âge des gens, on trouve des dates allant des années 1900 à 2075 ce qui devrait être l'année où le test a été réalisé. Sachant que ce sont des données Covid, on peut supposer que soit les dates de naissance sont fausses, soit ce sont les âges. Quoi qu'il en soit, les valeurs de chaque sont compromises."
   ]
  },
  {
   "cell_type": "code",
   "execution_count": 404,
   "metadata": {},
   "outputs": [
    {
     "data": {
      "text/plain": [
       "2149"
      ]
     },
     "execution_count": 404,
     "metadata": {},
     "output_type": "execute_result"
    }
   ],
   "source": [
    "len(df_patient[df_patient.dob_date.isna()])"
   ]
  },
  {
   "cell_type": "code",
   "execution_count": 405,
   "metadata": {},
   "outputs": [
    {
     "data": {
      "text/plain": [
       "3916"
      ]
     },
     "execution_count": 405,
     "metadata": {},
     "output_type": "execute_result"
    }
   ],
   "source": [
    "len(df_patient[df_patient.age.isna()])"
   ]
  },
  {
   "cell_type": "markdown",
   "metadata": {},
   "source": [
    "On devrait pouvoir être capables d'utiliser les âges pour récupérer une estimation dates de naissance manquantes et vice versa (si les tests ont été réalisés sur un laps de temps réduit, les deux valeurs devraient être corrélées)."
   ]
  },
  {
   "cell_type": "code",
   "execution_count": 406,
   "metadata": {},
   "outputs": [
    {
     "data": {
      "text/plain": [
       "<matplotlib.axes._subplots.AxesSubplot at 0x11cd67898>"
      ]
     },
     "execution_count": 406,
     "metadata": {},
     "output_type": "execute_result"
    },
    {
     "data": {
      "image/png": "[encoded data removed]",
      "text/plain": [
       "<Figure size 432x288 with 1 Axes>"
      ]
     },
     "metadata": {
      "needs_background": "light"
     },
     "output_type": "display_data"
    }
   ],
   "source": [
    "sns.scatterplot(data=df_patient, x=\"age\", y=\"dob_date\")"
   ]
  },
  {
   "cell_type": "markdown",
   "metadata": {},
   "source": [
    "Il semblerait d'une part que contre-intuitivement, l'âge soit indépendant de la date de naissance (si on suppose que les tests ont été faits sur une même année, ou dans uné période rapprochée). De plus, il semble y avoir au moins deux groupes d'âges distincts, regardons cela de plus près."
   ]
  },
  {
   "cell_type": "code",
   "execution_count": 407,
   "metadata": {},
   "outputs": [
    {
     "data": {
      "text/plain": [
       "<matplotlib.axes._subplots.AxesSubplot at 0x1245e1978>"
      ]
     },
     "execution_count": 407,
     "metadata": {},
     "output_type": "execute_result"
    },
    {
     "data": {
      "image/png": "[encoded data removed]",
      "text/plain": [
       "<Figure size 432x288 with 1 Axes>"
      ]
     },
     "metadata": {
      "needs_background": "light"
     },
     "output_type": "display_data"
    }
   ],
   "source": [
    "sns.histplot(data=df_patient, x = \"age\")"
   ]
  },
  {
   "cell_type": "markdown",
   "metadata": {},
   "source": [
    "Ceci confirme les deux groupes d'âges. "
   ]
  },
  {
   "cell_type": "code",
   "execution_count": 408,
   "metadata": {},
   "outputs": [
    {
     "name": "stdout",
     "output_type": "stream",
     "text": [
      "[[29.41756349]\n",
      " [10.04355269]]\n"
     ]
    }
   ],
   "source": [
    "from sklearn.mixture import GaussianMixture\n",
    "\n",
    "to_fit = np.array(df_patient[~df_patient[\"age\"].isna()].age).reshape(-1, 1)\n",
    "gmm_age = GaussianMixture(2).fit(to_fit)\n",
    "\n",
    "print(gmm_age.means_)\n"
   ]
  },
  {
   "cell_type": "markdown",
   "metadata": {},
   "source": [
    "La moyenne du premier groupe est de 10 ans, et la moyenne du deuxième groupe est de 29 ans. Il semble y avoir une netter séparation entre les deux groupes, on peut aussi les diviser manuellement."
   ]
  },
  {
   "cell_type": "code",
   "execution_count": 409,
   "metadata": {},
   "outputs": [
    {
     "data": {
      "text/plain": [
       "<matplotlib.axes._subplots.AxesSubplot at 0x12590ddd8>"
      ]
     },
     "execution_count": 409,
     "metadata": {},
     "output_type": "execute_result"
    },
    {
     "data": {
      "image/png": "[encoded data removed]",
      "text/plain": [
       "<Figure size 432x288 with 1 Axes>"
      ]
     },
     "metadata": {
      "needs_background": "light"
     },
     "output_type": "display_data"
    }
   ],
   "source": [
    "sns.histplot(data=df_patient[df_patient.age<18], x = \"age\")"
   ]
  },
  {
   "cell_type": "code",
   "execution_count": 410,
   "metadata": {},
   "outputs": [
    {
     "data": {
      "text/plain": [
       "<matplotlib.axes._subplots.AxesSubplot at 0x12469f710>"
      ]
     },
     "execution_count": 410,
     "metadata": {},
     "output_type": "execute_result"
    },
    {
     "data": {
      "image/png": "[encoded data removed]",
      "text/plain": [
       "<Figure size 432x288 with 1 Axes>"
      ]
     },
     "metadata": {
      "needs_background": "light"
     },
     "output_type": "display_data"
    }
   ],
   "source": [
    "sns.histplot(data=df_patient[df_patient.age>18], x = \"age\")"
   ]
  },
  {
   "cell_type": "code",
   "execution_count": 411,
   "metadata": {},
   "outputs": [
    {
     "name": "stdout",
     "output_type": "stream",
     "text": [
      "Means 10.12040557667934 29.47486350421896 27.52719852050252\n"
     ]
    }
   ],
   "source": [
    "mean_younger = df_patient[df_patient.age<=18].age.mean()\n",
    "mean_older = df_patient[df_patient.age>18].age.mean()\n",
    "mean_all = df_patient.age.mean()\n",
    "\n",
    "print(\"Means\", mean_younger, mean_older, mean_all)"
   ]
  },
  {
   "cell_type": "markdown",
   "metadata": {},
   "source": [
    "On retrouve les moyennes calculées précédemment avec des gaussiennes. "
   ]
  },
  {
   "cell_type": "code",
   "execution_count": 412,
   "metadata": {},
   "outputs": [
    {
     "data": {
      "text/plain": [
       "<matplotlib.axes._subplots.AxesSubplot at 0x124e0c3c8>"
      ]
     },
     "execution_count": 412,
     "metadata": {},
     "output_type": "execute_result"
    },
    {
     "data": {
      "image/png": "[encoded data removed]",
      "text/plain": [
       "<Figure size 432x288 with 1 Axes>"
      ]
     },
     "metadata": {
      "needs_background": "light"
     },
     "output_type": "display_data"
    }
   ],
   "source": [
    "sns.histplot(data=df_patient, x=\"dob_date\")"
   ]
  },
  {
   "cell_type": "markdown",
   "metadata": {},
   "source": [
    "On peut mieux approximer les âges probables que les années de naissance. En ce qui concerne les données manquantes d'âge, on peut les remplacer par des tirages aléatoires de la gaussian mixture calculée plus haut. On utilisera l'âge plutôt que les dates de naissance (qui ne semblent pas cohérentes) pour une analyse plus poussée des résultats, mais on peut retenir les dates de naissance pour repérer les doublons."
   ]
  },
  {
   "cell_type": "code",
   "execution_count": 413,
   "metadata": {},
   "outputs": [],
   "source": [
    "df_patient[\"age_inferred\"] = df_patient.apply(lambda row: gmm_age.sample()[0][0][0] if (math.isnan(row.age)) else row.age, axis = 1)"
   ]
  },
  {
   "cell_type": "code",
   "execution_count": 414,
   "metadata": {},
   "outputs": [
    {
     "data": {
      "text/html": [
       "<div>\n",
       "<style scoped>\n",
       "    .dataframe tbody tr th:only-of-type {\n",
       "        vertical-align: middle;\n",
       "    }\n",
       "\n",
       "    .dataframe tbody tr th {\n",
       "        vertical-align: top;\n",
       "    }\n",
       "\n",
       "    .dataframe thead th {\n",
       "        text-align: right;\n",
       "    }\n",
       "</style>\n",
       "<table border=\"1\" class=\"dataframe\">\n",
       "  <thead>\n",
       "    <tr style=\"text-align: right;\">\n",
       "      <th></th>\n",
       "      <th>patient_id</th>\n",
       "      <th>given_name</th>\n",
       "      <th>surname</th>\n",
       "      <th>street_number</th>\n",
       "      <th>address_1</th>\n",
       "      <th>suburb</th>\n",
       "      <th>postcode</th>\n",
       "      <th>state</th>\n",
       "      <th>date_of_birth</th>\n",
       "      <th>age</th>\n",
       "      <th>phone_number</th>\n",
       "      <th>address_2</th>\n",
       "      <th>state_corrected</th>\n",
       "      <th>dob_date</th>\n",
       "      <th>test_year</th>\n",
       "      <th>age_inferred</th>\n",
       "    </tr>\n",
       "  </thead>\n",
       "  <tbody>\n",
       "    <tr>\n",
       "      <th>14</th>\n",
       "      <td>291335</td>\n",
       "      <td>mikayla</td>\n",
       "      <td>paterson</td>\n",
       "      <td>20</td>\n",
       "      <td>freda bennett circuit</td>\n",
       "      <td>dover heights</td>\n",
       "      <td>4670</td>\n",
       "      <td>qld</td>\n",
       "      <td>19810810.0</td>\n",
       "      <td>NaN</td>\n",
       "      <td>08 88377793</td>\n",
       "      <td>None</td>\n",
       "      <td>qld</td>\n",
       "      <td>1981-08-10</td>\n",
       "      <td>NaN</td>\n",
       "      <td>24.504916</td>\n",
       "    </tr>\n",
       "    <tr>\n",
       "      <th>18</th>\n",
       "      <td>164820</td>\n",
       "      <td>lia</td>\n",
       "      <td>wilde</td>\n",
       "      <td>30</td>\n",
       "      <td>elsey street</td>\n",
       "      <td>None</td>\n",
       "      <td>3109</td>\n",
       "      <td>qld</td>\n",
       "      <td>19070704.0</td>\n",
       "      <td>NaN</td>\n",
       "      <td>03 98048163</td>\n",
       "      <td>None</td>\n",
       "      <td>qld</td>\n",
       "      <td>1907-07-04</td>\n",
       "      <td>NaN</td>\n",
       "      <td>31.831707</td>\n",
       "    </tr>\n",
       "    <tr>\n",
       "      <th>30</th>\n",
       "      <td>447449</td>\n",
       "      <td>andrew</td>\n",
       "      <td>fimmano</td>\n",
       "      <td>83</td>\n",
       "      <td></td>\n",
       "      <td>clifton springs</td>\n",
       "      <td>2560</td>\n",
       "      <td>nsw</td>\n",
       "      <td>19871005.0</td>\n",
       "      <td>NaN</td>\n",
       "      <td>02 39509342</td>\n",
       "      <td>None</td>\n",
       "      <td>nsw</td>\n",
       "      <td>1987-10-05</td>\n",
       "      <td>NaN</td>\n",
       "      <td>28.862277</td>\n",
       "    </tr>\n",
       "    <tr>\n",
       "      <th>32</th>\n",
       "      <td>358795</td>\n",
       "      <td>riley</td>\n",
       "      <td>mildren</td>\n",
       "      <td>20</td>\n",
       "      <td>jinka street</td>\n",
       "      <td>kempsey</td>\n",
       "      <td>3111</td>\n",
       "      <td>vic</td>\n",
       "      <td>19181231.0</td>\n",
       "      <td>NaN</td>\n",
       "      <td>None</td>\n",
       "      <td>None</td>\n",
       "      <td>vic</td>\n",
       "      <td>1918-12-31</td>\n",
       "      <td>NaN</td>\n",
       "      <td>25.255982</td>\n",
       "    </tr>\n",
       "    <tr>\n",
       "      <th>33</th>\n",
       "      <td>586232</td>\n",
       "      <td>jade</td>\n",
       "      <td>green</td>\n",
       "      <td>19</td>\n",
       "      <td>goyder street</td>\n",
       "      <td>coolum beach</td>\n",
       "      <td>4211</td>\n",
       "      <td>sa</td>\n",
       "      <td>19471129.0</td>\n",
       "      <td>NaN</td>\n",
       "      <td>02 22915798</td>\n",
       "      <td>None</td>\n",
       "      <td>sa</td>\n",
       "      <td>1947-11-29</td>\n",
       "      <td>NaN</td>\n",
       "      <td>34.624115</td>\n",
       "    </tr>\n",
       "  </tbody>\n",
       "</table>\n",
       "</div>"
      ],
      "text/plain": [
       "    patient_id given_name   surname  street_number              address_1  \\\n",
       "14      291335    mikayla  paterson             20  freda bennett circuit   \n",
       "18      164820        lia     wilde             30           elsey street   \n",
       "30      447449     andrew   fimmano             83                          \n",
       "32      358795      riley   mildren             20           jinka street   \n",
       "33      586232       jade     green             19          goyder street   \n",
       "\n",
       "             suburb postcode state  date_of_birth  age phone_number address_2  \\\n",
       "14    dover heights     4670   qld     19810810.0  NaN  08 88377793      None   \n",
       "18             None     3109   qld     19070704.0  NaN  03 98048163      None   \n",
       "30  clifton springs     2560   nsw     19871005.0  NaN  02 39509342      None   \n",
       "32          kempsey     3111   vic     19181231.0  NaN         None      None   \n",
       "33     coolum beach     4211    sa     19471129.0  NaN  02 22915798      None   \n",
       "\n",
       "   state_corrected   dob_date  test_year  age_inferred  \n",
       "14             qld 1981-08-10        NaN     24.504916  \n",
       "18             qld 1907-07-04        NaN     31.831707  \n",
       "30             nsw 1987-10-05        NaN     28.862277  \n",
       "32             vic 1918-12-31        NaN     25.255982  \n",
       "33              sa 1947-11-29        NaN     34.624115  "
      ]
     },
     "execution_count": 414,
     "metadata": {},
     "output_type": "execute_result"
    }
   ],
   "source": [
    "df_patient[(df_patient.age_inferred.notna() & df_patient.age.isna())].head()"
   ]
  },
  {
   "cell_type": "markdown",
   "metadata": {},
   "source": [
    "## 7. phone_number"
   ]
  },
  {
   "cell_type": "markdown",
   "metadata": {},
   "source": [
    "En regardant les quelques premières lignes de la base de données, on se rend compte que les numéros de téléphone australiens commencent par deux chiffres suivis d'un espace puis huit autres chiffres. Regardons les données manquantes ainsi que les données ne respectant pas ce schéma."
   ]
  },
  {
   "cell_type": "code",
   "execution_count": 415,
   "metadata": {},
   "outputs": [
    {
     "data": {
      "text/plain": [
       "903"
      ]
     },
     "execution_count": 415,
     "metadata": {},
     "output_type": "execute_result"
    }
   ],
   "source": [
    "len(df_patient[df_patient.phone_number.isna()])"
   ]
  },
  {
   "cell_type": "code",
   "execution_count": 416,
   "metadata": {},
   "outputs": [
    {
     "data": {
      "text/html": [
       "<div>\n",
       "<style scoped>\n",
       "    .dataframe tbody tr th:only-of-type {\n",
       "        vertical-align: middle;\n",
       "    }\n",
       "\n",
       "    .dataframe tbody tr th {\n",
       "        vertical-align: top;\n",
       "    }\n",
       "\n",
       "    .dataframe thead th {\n",
       "        text-align: right;\n",
       "    }\n",
       "</style>\n",
       "<table border=\"1\" class=\"dataframe\">\n",
       "  <thead>\n",
       "    <tr style=\"text-align: right;\">\n",
       "      <th></th>\n",
       "      <th>patient_id</th>\n",
       "      <th>given_name</th>\n",
       "      <th>surname</th>\n",
       "      <th>street_number</th>\n",
       "      <th>address_1</th>\n",
       "      <th>suburb</th>\n",
       "      <th>postcode</th>\n",
       "      <th>state</th>\n",
       "      <th>date_of_birth</th>\n",
       "      <th>age</th>\n",
       "      <th>phone_number</th>\n",
       "      <th>address_2</th>\n",
       "      <th>state_corrected</th>\n",
       "      <th>dob_date</th>\n",
       "      <th>test_year</th>\n",
       "      <th>age_inferred</th>\n",
       "    </tr>\n",
       "  </thead>\n",
       "  <tbody>\n",
       "  </tbody>\n",
       "</table>\n",
       "</div>"
      ],
      "text/plain": [
       "Empty DataFrame\n",
       "Columns: [patient_id, given_name, surname, street_number, address_1, suburb, postcode, state, date_of_birth, age, phone_number, address_2, state_corrected, dob_date, test_year, age_inferred]\n",
       "Index: []"
      ]
     },
     "execution_count": 416,
     "metadata": {},
     "output_type": "execute_result"
    }
   ],
   "source": [
    "#df_patient[~((df_patient.phone_number.isna()) | (df_patient.phone_number.apply(len)==11))]\n",
    "\n",
    "no_missing_phone_numbers = df_patient[df_patient.phone_number.notna()]\n",
    "no_missing_phone_numbers[no_missing_phone_numbers.phone_number.apply(len) !=11]"
   ]
  },
  {
   "cell_type": "code",
   "execution_count": 417,
   "metadata": {},
   "outputs": [
    {
     "data": {
      "text/html": [
       "<div>\n",
       "<style scoped>\n",
       "    .dataframe tbody tr th:only-of-type {\n",
       "        vertical-align: middle;\n",
       "    }\n",
       "\n",
       "    .dataframe tbody tr th {\n",
       "        vertical-align: top;\n",
       "    }\n",
       "\n",
       "    .dataframe thead th {\n",
       "        text-align: right;\n",
       "    }\n",
       "</style>\n",
       "<table border=\"1\" class=\"dataframe\">\n",
       "  <thead>\n",
       "    <tr style=\"text-align: right;\">\n",
       "      <th></th>\n",
       "      <th>patient_id</th>\n",
       "      <th>given_name</th>\n",
       "      <th>surname</th>\n",
       "      <th>street_number</th>\n",
       "      <th>address_1</th>\n",
       "      <th>suburb</th>\n",
       "      <th>postcode</th>\n",
       "      <th>state</th>\n",
       "      <th>date_of_birth</th>\n",
       "      <th>age</th>\n",
       "      <th>phone_number</th>\n",
       "      <th>address_2</th>\n",
       "      <th>state_corrected</th>\n",
       "      <th>dob_date</th>\n",
       "      <th>test_year</th>\n",
       "      <th>age_inferred</th>\n",
       "      <th>phone_format</th>\n",
       "    </tr>\n",
       "  </thead>\n",
       "  <tbody>\n",
       "  </tbody>\n",
       "</table>\n",
       "</div>"
      ],
      "text/plain": [
       "Empty DataFrame\n",
       "Columns: [patient_id, given_name, surname, street_number, address_1, suburb, postcode, state, date_of_birth, age, phone_number, address_2, state_corrected, dob_date, test_year, age_inferred, phone_format]\n",
       "Index: []"
      ]
     },
     "execution_count": 417,
     "metadata": {},
     "output_type": "execute_result"
    }
   ],
   "source": [
    "import re\n",
    "\n",
    "phone_match = re.compile(\"^[0-9]{2} [0-9]{8}$\")\n",
    "#df_patient[\"phone_format\"] = df_patient.apply(lambda row: print(row.attrs), axis=1)\n",
    "df_patient[\"phone_format\"] = df_patient.apply(lambda row: True if phone_match.match(str(row.phone_number)) else False, axis=1)\n",
    "\n",
    "df_patient[(~df_patient.phone_format) & (~df_patient.phone_number.isna())]"
   ]
  },
  {
   "cell_type": "markdown",
   "metadata": {},
   "source": [
    "On peut en déduire que tous les numéros de téléphone entrés ont le bon format. Selon Wikipedia encore une fois, chaque état a son indicateur téléphonique, voyons si c'est le cas ici."
   ]
  },
  {
   "cell_type": "code",
   "execution_count": 418,
   "metadata": {},
   "outputs": [],
   "source": [
    "df_patient[\"phone_geo\"] = df_patient.apply(lambda row: str(row.phone_number)[:2] if row.phone_number else None, axis=1)"
   ]
  },
  {
   "cell_type": "code",
   "execution_count": 419,
   "metadata": {},
   "outputs": [
    {
     "data": {
      "text/plain": [
       "<matplotlib.axes._subplots.AxesSubplot at 0x1247d60f0>"
      ]
     },
     "execution_count": 419,
     "metadata": {},
     "output_type": "execute_result"
    },
    {
     "data": {
      "image/png": "[encoded data removed]",
      "text/plain": [
       "<Figure size 432x288 with 1 Axes>"
      ]
     },
     "metadata": {
      "needs_background": "light"
     },
     "output_type": "display_data"
    }
   ],
   "source": [
    "pd.crosstab(df_patient['phone_geo'],df_patient['state_corrected']).plot.bar()"
   ]
  },
  {
   "cell_type": "markdown",
   "metadata": {},
   "source": [
    "Apparemment, dans ce dataset, on ne peut pas faire de lien entre le numéro de téléphone et l'état qui semblent indépendants, on ne peut donc pas vérifier la cohérence des numéros donnés."
   ]
  },
  {
   "cell_type": "markdown",
   "metadata": {},
   "source": [
    "## Nettoyage"
   ]
  },
  {
   "cell_type": "markdown",
   "metadata": {},
   "source": [
    "Finalement, réarrangeons les colonnes pour que leur ordre ait un sens et qu'il soit plus naturel de naviguer dans cette table."
   ]
  },
  {
   "cell_type": "code",
   "execution_count": 420,
   "metadata": {},
   "outputs": [],
   "source": [
    "df_patient = df_patient[['patient_id', 'given_name', 'surname', 'street_number', 'address_1', 'address_2', 'suburb', 'postcode', 'state', 'state_corrected', 'date_of_birth', 'dob_date', 'age', 'age_inferred', 'test_year', 'phone_number', 'phone_format', 'phone_geo']] "
   ]
  },
  {
   "cell_type": "code",
   "execution_count": 421,
   "metadata": {},
   "outputs": [
    {
     "data": {
      "text/html": [
       "<div>\n",
       "<style scoped>\n",
       "    .dataframe tbody tr th:only-of-type {\n",
       "        vertical-align: middle;\n",
       "    }\n",
       "\n",
       "    .dataframe tbody tr th {\n",
       "        vertical-align: top;\n",
       "    }\n",
       "\n",
       "    .dataframe thead th {\n",
       "        text-align: right;\n",
       "    }\n",
       "</style>\n",
       "<table border=\"1\" class=\"dataframe\">\n",
       "  <thead>\n",
       "    <tr style=\"text-align: right;\">\n",
       "      <th></th>\n",
       "      <th>patient_id</th>\n",
       "      <th>given_name</th>\n",
       "      <th>surname</th>\n",
       "      <th>street_number</th>\n",
       "      <th>address_1</th>\n",
       "      <th>address_2</th>\n",
       "      <th>suburb</th>\n",
       "      <th>postcode</th>\n",
       "      <th>state</th>\n",
       "      <th>state_corrected</th>\n",
       "      <th>date_of_birth</th>\n",
       "      <th>dob_date</th>\n",
       "      <th>age</th>\n",
       "      <th>age_inferred</th>\n",
       "      <th>test_year</th>\n",
       "      <th>phone_number</th>\n",
       "      <th>phone_format</th>\n",
       "      <th>phone_geo</th>\n",
       "    </tr>\n",
       "  </thead>\n",
       "  <tbody>\n",
       "    <tr>\n",
       "      <th>0</th>\n",
       "      <td>221958</td>\n",
       "      <td>matisse</td>\n",
       "      <td>clarke</td>\n",
       "      <td>13</td>\n",
       "      <td>rene street</td>\n",
       "      <td>westella</td>\n",
       "      <td>ellenbrook</td>\n",
       "      <td>2527</td>\n",
       "      <td>wa</td>\n",
       "      <td>wa</td>\n",
       "      <td>19710708.0</td>\n",
       "      <td>1971-07-08</td>\n",
       "      <td>32.0</td>\n",
       "      <td>32.0</td>\n",
       "      <td>2003.0</td>\n",
       "      <td>08 86018809</td>\n",
       "      <td>True</td>\n",
       "      <td>08</td>\n",
       "    </tr>\n",
       "    <tr>\n",
       "      <th>1</th>\n",
       "      <td>771155</td>\n",
       "      <td>joshua</td>\n",
       "      <td>elrick</td>\n",
       "      <td>23</td>\n",
       "      <td>andrea place</td>\n",
       "      <td>foxdown</td>\n",
       "      <td>east preston</td>\n",
       "      <td>2074</td>\n",
       "      <td>nsw</td>\n",
       "      <td>nsw</td>\n",
       "      <td>19120921.0</td>\n",
       "      <td>1912-09-21</td>\n",
       "      <td>34.0</td>\n",
       "      <td>34.0</td>\n",
       "      <td>1946.0</td>\n",
       "      <td>02 97793152</td>\n",
       "      <td>True</td>\n",
       "      <td>02</td>\n",
       "    </tr>\n",
       "    <tr>\n",
       "      <th>2</th>\n",
       "      <td>231932</td>\n",
       "      <td>alice</td>\n",
       "      <td>conboy</td>\n",
       "      <td>35</td>\n",
       "      <td>mountain circuit</td>\n",
       "      <td>None</td>\n",
       "      <td>prospect</td>\n",
       "      <td>2305</td>\n",
       "      <td>nsw</td>\n",
       "      <td>nsw</td>\n",
       "      <td>19810905.0</td>\n",
       "      <td>1981-09-05</td>\n",
       "      <td>22.0</td>\n",
       "      <td>22.0</td>\n",
       "      <td>2003.0</td>\n",
       "      <td>02 20403934</td>\n",
       "      <td>True</td>\n",
       "      <td>02</td>\n",
       "    </tr>\n",
       "    <tr>\n",
       "      <th>3</th>\n",
       "      <td>465838</td>\n",
       "      <td>sienna</td>\n",
       "      <td>craswell</td>\n",
       "      <td>39</td>\n",
       "      <td>cumberlegeicrescent</td>\n",
       "      <td>jodane</td>\n",
       "      <td>henty</td>\n",
       "      <td>3620</td>\n",
       "      <td>wa</td>\n",
       "      <td>wa</td>\n",
       "      <td>19840809.0</td>\n",
       "      <td>1984-08-09</td>\n",
       "      <td>30.0</td>\n",
       "      <td>30.0</td>\n",
       "      <td>2014.0</td>\n",
       "      <td>02 62832318</td>\n",
       "      <td>True</td>\n",
       "      <td>02</td>\n",
       "    </tr>\n",
       "    <tr>\n",
       "      <th>4</th>\n",
       "      <td>359178</td>\n",
       "      <td>joshua</td>\n",
       "      <td>bastiaans</td>\n",
       "      <td>144</td>\n",
       "      <td>lowrie street</td>\n",
       "      <td>None</td>\n",
       "      <td>campbell town</td>\n",
       "      <td>4051</td>\n",
       "      <td>nsw</td>\n",
       "      <td>nsw</td>\n",
       "      <td>19340430.0</td>\n",
       "      <td>1934-04-30</td>\n",
       "      <td>31.0</td>\n",
       "      <td>31.0</td>\n",
       "      <td>1965.0</td>\n",
       "      <td>03 69359594</td>\n",
       "      <td>True</td>\n",
       "      <td>03</td>\n",
       "    </tr>\n",
       "  </tbody>\n",
       "</table>\n",
       "</div>"
      ],
      "text/plain": [
       "   patient_id given_name    surname  street_number            address_1  \\\n",
       "0      221958    matisse     clarke             13          rene street   \n",
       "1      771155     joshua     elrick             23         andrea place   \n",
       "2      231932      alice     conboy             35     mountain circuit   \n",
       "3      465838     sienna   craswell             39  cumberlegeicrescent   \n",
       "4      359178     joshua  bastiaans            144        lowrie street   \n",
       "\n",
       "  address_2         suburb postcode state state_corrected  date_of_birth  \\\n",
       "0  westella     ellenbrook     2527    wa              wa     19710708.0   \n",
       "1   foxdown   east preston     2074   nsw             nsw     19120921.0   \n",
       "2      None       prospect     2305   nsw             nsw     19810905.0   \n",
       "3    jodane          henty     3620    wa              wa     19840809.0   \n",
       "4      None  campbell town     4051   nsw             nsw     19340430.0   \n",
       "\n",
       "    dob_date   age  age_inferred  test_year phone_number  phone_format  \\\n",
       "0 1971-07-08  32.0          32.0     2003.0  08 86018809          True   \n",
       "1 1912-09-21  34.0          34.0     1946.0  02 97793152          True   \n",
       "2 1981-09-05  22.0          22.0     2003.0  02 20403934          True   \n",
       "3 1984-08-09  30.0          30.0     2014.0  02 62832318          True   \n",
       "4 1934-04-30  31.0          31.0     1965.0  03 69359594          True   \n",
       "\n",
       "  phone_geo  \n",
       "0        08  \n",
       "1        02  \n",
       "2        02  \n",
       "3        02  \n",
       "4        03  "
      ]
     },
     "execution_count": 421,
     "metadata": {},
     "output_type": "execute_result"
    }
   ],
   "source": [
    "df_patient.head()"
   ]
  },
  {
   "cell_type": "code",
   "execution_count": 422,
   "metadata": {},
   "outputs": [],
   "source": [
    "df_patient.to_csv(\"db_clean.csv\")"
   ]
  },
  {
   "cell_type": "code",
   "execution_count": 423,
   "metadata": {},
   "outputs": [],
   "source": [
    "#df_patient.groupby(\"age\").aggregate({\"patient_id\":\"count\"})"
   ]
  }
 ],
 "metadata": {
  "kernelspec": {
   "display_name": "Python 3",
   "language": "python",
   "name": "python3"
  },
  "language_info": {
   "codemirror_mode": {
    "name": "ipython",
    "version": 3
   },
   "file_extension": ".py",
   "mimetype": "text/x-python",
   "name": "python",
   "nbconvert_exporter": "python",
   "pygments_lexer": "ipython3",
   "version": "3.7.3"
  }
 },
 "nbformat": 4,
 "nbformat_minor": 2
}
