{
 "cells": [
  {
   "cell_type": "code",
   "execution_count": 1,
   "metadata": {},
   "outputs": [],
   "source": [
    "## Imports\n",
    "import pandas as pd\n",
    "from sqlalchemy import create_engine\n",
    "import numpy as np\n",
    "import matplotlib.pyplot as plt\n",
    "import seaborn as sns"
   ]
  },
  {
   "cell_type": "code",
   "execution_count": 6,
   "metadata": {},
   "outputs": [],
   "source": [
    "from sqlalchemy import create_engine\n",
    "\n",
    "engine = create_engine('sqlite:///data.db', echo=False)\n",
    "con = engine.connect()\n",
    "\n",
    "df_patient = pd.read_csv(\"australia_covid_no_dup.csv\")\n",
    "# + df_pcr to load\n",
    "df_pcr = pd.read_sql('select * from test', con=con)\n",
    "con.close()"
   ]
  },
  {
   "cell_type": "markdown",
   "metadata": {},
   "source": [
    "EDA to do\n",
    "\n",
    "Visualization\n",
    "\n",
    "- camembert pos/neg total\n",
    "- age\n",
    "    - ratio pos/neg by age\n",
    "    - total pos/neg by age\n",
    "- state\n",
    "    - same\n",
    "    - and same\n",
    "    - and map w/ geopandas if time allows?"
   ]
  },
  {
   "cell_type": "code",
   "execution_count": 10,
   "metadata": {},
   "outputs": [],
   "source": [
    "full_df = df_patient.merge(df_pcr, on=\"patient_id\", how=\"inner\")"
   ]
  },
  {
   "cell_type": "code",
   "execution_count": 11,
   "metadata": {},
   "outputs": [
    {
     "data": {
      "text/plain": [
       "Index(['Unnamed: 0', 'Unnamed: 0.1', 'patient_id', 'given_name', 'surname',\n",
       "       'street_number', 'address_1', 'address_2', 'suburb', 'postcode',\n",
       "       'state', 'state_corrected', 'date_of_birth', 'dob_date', 'age',\n",
       "       'age_inferred', 'test_year', 'phone_number', 'phone_format',\n",
       "       'phone_geo', 'all_info', 'processed', 'original', 'group', 'pcr'],\n",
       "      dtype='object')"
      ]
     },
     "execution_count": 11,
     "metadata": {},
     "output_type": "execute_result"
    }
   ],
   "source": [
    "full_df.columns"
   ]
  },
  {
   "cell_type": "code",
   "execution_count": 14,
   "metadata": {},
   "outputs": [
    {
     "data": {
      "text/plain": [
       "<matplotlib.axes._subplots.AxesSubplot at 0x120b9a208>"
      ]
     },
     "execution_count": 14,
     "metadata": {},
     "output_type": "execute_result"
    },
    {
     "data": {
      "image/png": "[encoded data removed]",
      "text/plain": [
       "<Figure size 432x288 with 1 Axes>"
      ]
     },
     "metadata": {
      "needs_background": "light"
     },
     "output_type": "display_data"
    }
   ],
   "source": [
    "sns.histplot(data=full_df, x=\"pcr\", hue=\"state_corrected\")"
   ]
  },
  {
   "cell_type": "code",
   "execution_count": 33,
   "metadata": {},
   "outputs": [
    {
     "data": {
      "text/plain": [
       "state_corrected\n",
       "act    0.258621\n",
       "nsw    0.244874\n",
       "nt     0.098039\n",
       "qld    0.250812\n",
       "sa     0.222037\n",
       "tas    0.262009\n",
       "vic    0.262827\n",
       "wa     0.253772\n",
       "dtype: float64"
      ]
     },
     "execution_count": 33,
     "metadata": {},
     "output_type": "execute_result"
    }
   ],
   "source": [
    "full_df[\"result_pcr\"] = full_df.apply(lambda row: 0 if row.pcr in [\"N\", \"Negative\"] else 1, axis=1)\n",
    "full_df.groupby(\"state_corrected\").aggregate({\"result_pcr\": \"sum\", \"patient_id\": \"count\"}).apply(lambda row: row[\"result_pcr\"]/row[\"patient_id\"], axis=1)"
   ]
  },
  {
   "cell_type": "code",
   "execution_count": null,
   "metadata": {},
   "outputs": [],
   "source": []
  }
 ],
 "metadata": {
  "kernelspec": {
   "display_name": "Python 3",
   "language": "python",
   "name": "python3"
  },
  "language_info": {
   "codemirror_mode": {
    "name": "ipython",
    "version": 3
   },
   "file_extension": ".py",
   "mimetype": "text/x-python",
   "name": "python",
   "nbconvert_exporter": "python",
   "pygments_lexer": "ipython3",
   "version": "3.7.3"
  }
 },
 "nbformat": 4,
 "nbformat_minor": 2
}
